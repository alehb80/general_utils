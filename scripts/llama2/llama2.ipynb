{
 "cells": [
  {
   "cell_type": "code",
   "execution_count": 12,
   "id": "initial_id",
   "metadata": {
    "collapsed": true,
    "ExecuteTime": {
     "end_time": "2023-08-02T12:44:05.165525303Z",
     "start_time": "2023-08-02T12:44:04.384738250Z"
    }
   },
   "outputs": [],
   "source": [
    "from transformers import AutoTokenizer, AutoModel"
   ]
  },
  {
   "cell_type": "code",
   "execution_count": 13,
   "outputs": [],
   "source": [
    "# login(token=\"\")"
   ],
   "metadata": {
    "collapsed": false,
    "ExecuteTime": {
     "end_time": "2023-08-02T12:44:07.182006866Z",
     "start_time": "2023-08-02T12:44:07.177637011Z"
    }
   },
   "id": "5d40821da14d496a"
  },
  {
   "cell_type": "code",
   "execution_count": 22,
   "outputs": [],
   "source": [
    "# model_hf = \"meta-llama/Llama-2-7b-hf\"\n",
    "model_hf = \"../Resources/llama2/llama-2-7b\""
   ],
   "metadata": {
    "collapsed": false,
    "ExecuteTime": {
     "end_time": "2023-08-02T12:45:50.228331504Z",
     "start_time": "2023-08-02T12:45:50.214229835Z"
    }
   },
   "id": "fe7595a53353b736"
  },
  {
   "cell_type": "code",
   "execution_count": 15,
   "outputs": [
    {
     "name": "stdout",
     "output_type": "stream",
     "text": [
      "consolidated.00.pth\n",
      "params.json\n",
      "checklist.chk\n"
     ]
    }
   ],
   "source": [
    "from os import listdir\n",
    "for file in listdir(model_hf):\n",
    "    print(file)"
   ],
   "metadata": {
    "collapsed": false,
    "ExecuteTime": {
     "end_time": "2023-08-02T12:44:09.798798983Z",
     "start_time": "2023-08-02T12:44:09.792740336Z"
    }
   },
   "id": "f56755bb229e170e"
  },
  {
   "cell_type": "code",
   "execution_count": 16,
   "outputs": [],
   "source": [
    "# pipe = pipeline(\"text-generation\", model=model_hf)"
   ],
   "metadata": {
    "collapsed": false,
    "ExecuteTime": {
     "end_time": "2023-08-02T12:44:10.972132410Z",
     "start_time": "2023-08-02T12:44:10.927491873Z"
    }
   },
   "id": "94fab051f9839597"
  },
  {
   "cell_type": "code",
   "execution_count": null,
   "outputs": [],
   "source": [
    "# Load model directly\n",
    "tokenizer = AutoTokenizer.from_pretrained(model_hf)\n",
    "model = AutoModel.from_pretrained(model_hf)"
   ],
   "metadata": {
    "collapsed": false
   },
   "id": "ad1e6429f7df7b54"
  },
  {
   "cell_type": "code",
   "execution_count": null,
   "outputs": [],
   "source": [
    "input_text = \"Hello, how are you?\"\n",
    "inputs = tokenizer.encode(input_text, return_tensors='pt')"
   ],
   "metadata": {
    "collapsed": false
   },
   "id": "1d5e481b338253f0"
  },
  {
   "cell_type": "code",
   "execution_count": null,
   "outputs": [],
   "source": [
    "outputs = model.generate(inputs, max_length=50, num_return_sequences=5, temperature=0.7)"
   ],
   "metadata": {
    "collapsed": false
   },
   "id": "5f0c29263692d931"
  },
  {
   "cell_type": "code",
   "execution_count": null,
   "outputs": [],
   "source": [
    "print(\"Generated text:\")"
   ],
   "metadata": {
    "collapsed": false
   },
   "id": "6474bed39fd2f381"
  },
  {
   "cell_type": "code",
   "execution_count": null,
   "outputs": [],
   "source": [
    "for i, output in enumerate(outputs):\n",
    "    print(f\"{i}: {tokenizer.decode(output)}\")"
   ],
   "metadata": {
    "collapsed": false
   },
   "id": "2212025ce9e530fc"
  }
 ],
 "metadata": {
  "kernelspec": {
   "display_name": "Python 3",
   "language": "python",
   "name": "python3"
  },
  "language_info": {
   "codemirror_mode": {
    "name": "ipython",
    "version": 2
   },
   "file_extension": ".py",
   "mimetype": "text/x-python",
   "name": "python",
   "nbconvert_exporter": "python",
   "pygments_lexer": "ipython2",
   "version": "2.7.6"
  }
 },
 "nbformat": 4,
 "nbformat_minor": 5
}
