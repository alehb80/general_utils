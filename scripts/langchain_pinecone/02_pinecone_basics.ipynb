{
 "cells": [
  {
   "cell_type": "markdown",
   "id": "e750f6c3",
   "metadata": {},
   "source": [
    "# Pinecone Basics\n",
    "\n",
    "Una delle difficoltà maggiori, legata al mondo degli LLM e della Generative AI e alle grandissime moli di dati richieste per il training e a volte per operare, è l'**efficient data processing**.\n",
    "Molte delle applicazioni di AI più rcenti utilizzano i **vector embeddings**: chatbots, question-answering systems, machine translation, etc.\n",
    "I vector embeddings sono fondamentali per aquisire **understanding** e **long term memory**.\n",
    "Convertire in vector embeddings le descrizioni dei libri contenuti in un dataset di 5000 unità (per realizzare un sistema di raccomandazione basato su similarità), produce un file di circa 200MB, si immagini una intera biblioteca. Gestire file di tali dimensioni mediante un semplice **csv** diventa estremamente inefficiente.\n",
    "A tal fine tornano utili i **Vector Database** come per esempio **Pinecone, Chroma, Milvus e Qdrant**.\n",
    "**Pinecone** è stato realizzato per la gestione di **high dimensional vectors** e mette a disposizione una potente **ricerca semantica** tra tali vettori, integrandosi perfettamente con **OpenAI**.\n",
    "I Vector Database, a differenda dei SQL database, sono stati pensati per fare **storing e querying** di dati **unstructured** (testo, immagini, audio). La ricerca nei Vector Database avviene per similarità combinando diversi algoritmi ottimizati al fine di individuare il cosiddetto **Approximate Nearest Neighbor(ANN)**.\n"
   ]
  },
  {
   "cell_type": "markdown",
   "id": "3e5c33e6",
   "metadata": {},
   "source": [
    "## Inizializzazione di Pinecone"
   ]
  },
  {
   "cell_type": "code",
   "execution_count": 16,
   "id": "9b30f952",
   "metadata": {
    "ExecuteTime": {
     "end_time": "2023-09-18T13:30:21.029676128Z",
     "start_time": "2023-09-18T13:30:20.975137096Z"
    }
   },
   "outputs": [
    {
     "data": {
      "text/plain": "True"
     },
     "execution_count": 16,
     "metadata": {},
     "output_type": "execute_result"
    }
   ],
   "source": [
    "# Carico le API Keys\n",
    "import os\n",
    "from dotenv import load_dotenv, find_dotenv\n",
    "load_dotenv(find_dotenv(filename=\"pinecone.env\"), override=True)"
   ]
  },
  {
   "cell_type": "code",
   "execution_count": 17,
   "id": "1ee6a023",
   "metadata": {
    "ExecuteTime": {
     "end_time": "2023-09-18T13:30:22.053853861Z",
     "start_time": "2023-09-18T13:30:22.034603959Z"
    }
   },
   "outputs": [],
   "source": [
    "#per evitare il warning della cella seguente\n",
    "from tqdm.autonotebook import tqdm "
   ]
  },
  {
   "cell_type": "code",
   "execution_count": 18,
   "id": "bb1408a7",
   "metadata": {
    "ExecuteTime": {
     "end_time": "2023-09-18T13:30:23.324374563Z",
     "start_time": "2023-09-18T13:30:22.985682430Z"
    }
   },
   "outputs": [],
   "source": [
    "import pinecone \n",
    "\n",
    "# inizializzazione pinecone - sto usando utenza ros.moscato@gmail.com\n",
    "pinecone.init(\n",
    "    api_key=os.environ.get('PINECONE_API_KEY'),\n",
    "    environment=os.environ.get('PINECONE_ENV')\n",
    ")"
   ]
  },
  {
   "cell_type": "code",
   "execution_count": 19,
   "id": "abb2fe0a",
   "metadata": {
    "ExecuteTime": {
     "end_time": "2023-09-18T13:30:24.501421629Z",
     "start_time": "2023-09-18T13:30:24.243907539Z"
    }
   },
   "outputs": [
    {
     "data": {
      "text/plain": "VersionResponse(server='2.0.11', client='2.2.4')"
     },
     "execution_count": 19,
     "metadata": {},
     "output_type": "execute_result"
    }
   ],
   "source": [
    "# Verifico la versione\n",
    "pinecone.info.version()"
   ]
  },
  {
   "cell_type": "markdown",
   "id": "07f99ddb",
   "metadata": {},
   "source": [
    "## Pinecone Indexes"
   ]
  },
  {
   "cell_type": "code",
   "execution_count": 20,
   "id": "2dcf962c",
   "metadata": {
    "ExecuteTime": {
     "end_time": "2023-09-18T13:30:26.293205304Z",
     "start_time": "2023-09-18T13:30:26.037416588Z"
    }
   },
   "outputs": [
    {
     "data": {
      "text/plain": "['langchain-pinecone']"
     },
     "execution_count": 20,
     "metadata": {},
     "output_type": "execute_result"
    }
   ],
   "source": [
    "# Listo gli indici esistenti\n",
    "pinecone.list_indexes()"
   ]
  },
  {
   "cell_type": "markdown",
   "id": "3ca26c84",
   "metadata": {},
   "source": [
    "### Creo un index"
   ]
  },
  {
   "cell_type": "code",
   "execution_count": 21,
   "id": "2cf9dc13",
   "metadata": {
    "ExecuteTime": {
     "end_time": "2023-09-18T13:30:28.059249981Z",
     "start_time": "2023-09-18T13:30:27.759902808Z"
    }
   },
   "outputs": [
    {
     "name": "stdout",
     "output_type": "stream",
     "text": [
      "Index langchain-pinecone already exists!\n"
     ]
    }
   ],
   "source": [
    "# creo un indice - configurazione servizio gratuito\n",
    "index_name = 'langchain-pinecone'\n",
    "if index_name not in pinecone.list_indexes():\n",
    "    print(f'Creating index {index_name} ....')\n",
    "    pinecone.create_index(index_name, dimension=1536, metric='cosine', pods=1, pod_type='p1.x2')\n",
    "    print('Done')\n",
    "else:\n",
    "    print(f'Index {index_name} already exists!')"
   ]
  },
  {
   "cell_type": "code",
   "execution_count": 22,
   "id": "495a27d9",
   "metadata": {
    "ExecuteTime": {
     "end_time": "2023-09-18T13:30:29.491657265Z",
     "start_time": "2023-09-18T13:30:29.222824178Z"
    }
   },
   "outputs": [
    {
     "data": {
      "text/plain": "IndexDescription(name='langchain-pinecone', metric='cosine', replicas=1, dimension=1536.0, shards=1, pods=1, pod_type='starter', status={'ready': True, 'state': 'Ready'}, metadata_config=None, source_collection='')"
     },
     "execution_count": 22,
     "metadata": {},
     "output_type": "execute_result"
    }
   ],
   "source": [
    "# Verifico un indice\n",
    "pinecone.describe_index(index_name)"
   ]
  },
  {
   "cell_type": "markdown",
   "id": "2e341740",
   "metadata": {},
   "source": [
    "### Cancello un index"
   ]
  },
  {
   "cell_type": "code",
   "execution_count": 18,
   "id": "84d5dbc1",
   "metadata": {
    "scrolled": true,
    "ExecuteTime": {
     "end_time": "2023-09-18T09:14:13.216219121Z",
     "start_time": "2023-09-18T09:13:39.889139663Z"
    }
   },
   "outputs": [
    {
     "name": "stdout",
     "output_type": "stream",
     "text": [
      "Deleting index langchain-pinecone ... \n",
      "Done\n"
     ]
    }
   ],
   "source": [
    "# cancello un indice\n",
    "index_name = input('Enter Pinecone index to delete: ')\n",
    "if index_name in pinecone.list_indexes():\n",
    "    print(f'Deleting index {index_name} ... ')\n",
    "    pinecone.delete_index(index_name)\n",
    "    print('Done')\n",
    "else:\n",
    "    print(f'Index {index_name} does not exist!')"
   ]
  },
  {
   "cell_type": "markdown",
   "id": "4ca8ea69",
   "metadata": {},
   "source": [
    "### Statistiche index"
   ]
  },
  {
   "cell_type": "code",
   "execution_count": 23,
   "id": "7322f767",
   "metadata": {
    "scrolled": true,
    "ExecuteTime": {
     "end_time": "2023-09-18T13:30:39.245652961Z",
     "start_time": "2023-09-18T13:30:38.923114726Z"
    }
   },
   "outputs": [
    {
     "data": {
      "text/plain": "{'dimension': 1536,\n 'index_fullness': 0.0,\n 'namespaces': {},\n 'total_vector_count': 0}"
     },
     "execution_count": 23,
     "metadata": {},
     "output_type": "execute_result"
    }
   ],
   "source": [
    "# Recupero statistiche indice\n",
    "index_name = 'langchain-pinecone'\n",
    "index = pinecone.Index(index_name)\n",
    "index.describe_index_stats()"
   ]
  },
  {
   "cell_type": "markdown",
   "id": "ca2322c5",
   "metadata": {},
   "source": [
    "## Namespaces\n",
    "Pinecone ci permette di partizionare i vettori presenti in un indice in **namespaces**.\n",
    "Le query e le altre operazioni saranno quindi limitate a un namespace, per cui richieste differenti agiranno su diversi subsets dell'indice. I namespaces sono unici e identificati da un nome univoco (namespace name), che di default è una empty string."
   ]
  },
  {
   "cell_type": "markdown",
   "id": "5147f643",
   "metadata": {},
   "source": [
    "### Inserimento di vettori in un index"
   ]
  },
  {
   "cell_type": "code",
   "execution_count": 25,
   "id": "6f2edc55",
   "metadata": {
    "ExecuteTime": {
     "end_time": "2023-09-18T09:21:04.082231569Z",
     "start_time": "2023-09-18T09:21:04.039602919Z"
    }
   },
   "outputs": [
    {
     "data": {
      "text/plain": "['a', 'b', 'c', 'd', 'e']"
     },
     "execution_count": 25,
     "metadata": {},
     "output_type": "execute_result"
    }
   ],
   "source": [
    "# inserimento di alcuni(5) vettori randomici nel Pinecone Index\n",
    "import random\n",
    "vectors = [[random.random() for _ in range(1536)] for v in range(5)]\n",
    "\n",
    "# vectors id\n",
    "ids = list('abcde') #abbiamo 5 vettori e quindi 5 elementi per gli IDs\n",
    "ids"
   ]
  },
  {
   "cell_type": "code",
   "execution_count": 27,
   "id": "a962f253",
   "metadata": {
    "ExecuteTime": {
     "end_time": "2023-09-18T09:21:41.708775253Z",
     "start_time": "2023-09-18T09:21:41.101128562Z"
    }
   },
   "outputs": [
    {
     "data": {
      "text/plain": "{'upserted_count': 5}"
     },
     "execution_count": 27,
     "metadata": {},
     "output_type": "execute_result"
    }
   ],
   "source": [
    "# Nota: si usa 'upsert' e non insert. Upsert è una operazione singola per fare insert o update.\n",
    "index_name = 'langchain-pinecone'\n",
    "index = pinecone.Index(index_name)\n",
    "index.upsert(vectors=zip(ids, vectors))"
   ]
  },
  {
   "cell_type": "code",
   "execution_count": 28,
   "id": "7a97d77b",
   "metadata": {
    "ExecuteTime": {
     "end_time": "2023-09-18T09:22:13.875875235Z",
     "start_time": "2023-09-18T09:22:13.703329054Z"
    }
   },
   "outputs": [
    {
     "data": {
      "text/plain": "{'dimension': 1536,\n 'index_fullness': 5e-05,\n 'namespaces': {'': {'vector_count': 5}},\n 'total_vector_count': 5}"
     },
     "execution_count": 28,
     "metadata": {},
     "output_type": "execute_result"
    }
   ],
   "source": [
    "# Recupero statistiche indice\n",
    "#index_name = 'langchain-pinecone'\n",
    "#index = pinecone.Index(index_name)\n",
    "index.describe_index_stats()"
   ]
  },
  {
   "cell_type": "markdown",
   "id": "0088eb3e",
   "metadata": {},
   "source": [
    "### Operazione di update"
   ]
  },
  {
   "cell_type": "code",
   "execution_count": 29,
   "id": "503b8bc4",
   "metadata": {
    "ExecuteTime": {
     "end_time": "2023-09-18T09:22:56.684886001Z",
     "start_time": "2023-09-18T09:22:56.453580097Z"
    }
   },
   "outputs": [
    {
     "data": {
      "text/plain": "{'upserted_count': 1}"
     },
     "execution_count": 29,
     "metadata": {},
     "output_type": "execute_result"
    }
   ],
   "source": [
    "# update di un vettore\n",
    "index.upsert(vectors=[('c', [0.3] * 1536)])"
   ]
  },
  {
   "cell_type": "code",
   "execution_count": 30,
   "id": "ba9e3b45",
   "metadata": {
    "ExecuteTime": {
     "end_time": "2023-09-18T09:23:02.142103415Z",
     "start_time": "2023-09-18T09:23:01.985088847Z"
    }
   },
   "outputs": [
    {
     "data": {
      "text/plain": "{'dimension': 1536,\n 'index_fullness': 5e-05,\n 'namespaces': {'': {'vector_count': 5}},\n 'total_vector_count': 5}"
     },
     "execution_count": 30,
     "metadata": {},
     "output_type": "execute_result"
    }
   ],
   "source": [
    "# Recupero statistiche indice\n",
    "#index_name = 'langchain-pinecone'\n",
    "#index = pinecone.Index(index_name)\n",
    "index.describe_index_stats()"
   ]
  },
  {
   "cell_type": "markdown",
   "id": "dd3f3f45",
   "metadata": {},
   "source": [
    "### Fetching di un vettore"
   ]
  },
  {
   "cell_type": "code",
   "execution_count": 31,
   "id": "0a74988a",
   "metadata": {
    "scrolled": true,
    "ExecuteTime": {
     "end_time": "2023-09-18T09:23:10.730176332Z",
     "start_time": "2023-09-18T09:23:10.383510868Z"
    }
   },
   "outputs": [
    {
     "data": {
      "text/plain": "{'namespace': '',\n 'vectors': {'c': {'id': 'c',\n                   'metadata': {},\n                   'values': [0.3,\n                              0.3,\n                              0.3,\n                              0.3,\n                              0.3,\n                              0.3,\n                              0.3,\n                              0.3,\n                              0.3,\n                              0.3,\n                              0.3,\n                              0.3,\n                              0.3,\n                              0.3,\n                              0.3,\n                              0.3,\n                              0.3,\n                              0.3,\n                              0.3,\n                              0.3,\n                              0.3,\n                              0.3,\n                              0.3,\n                              0.3,\n                              0.3,\n                              0.3,\n                              0.3,\n                              0.3,\n                              0.3,\n                              0.3,\n                              0.3,\n                              0.3,\n                              0.3,\n                              0.3,\n                              0.3,\n                              0.3,\n                              0.3,\n                              0.3,\n                              0.3,\n                              0.3,\n                              0.3,\n                              0.3,\n                              0.3,\n                              0.3,\n                              0.3,\n                              0.3,\n                              0.3,\n                              0.3,\n                              0.3,\n                              0.3,\n                              0.3,\n                              0.3,\n                              0.3,\n                              0.3,\n                              0.3,\n                              0.3,\n                              0.3,\n                              0.3,\n                              0.3,\n                              0.3,\n                              0.3,\n                              0.3,\n                              0.3,\n                              0.3,\n                              0.3,\n                              0.3,\n                              0.3,\n                              0.3,\n                              0.3,\n                              0.3,\n                              0.3,\n                              0.3,\n                              0.3,\n                              0.3,\n                              0.3,\n                              0.3,\n                              0.3,\n                              0.3,\n                              0.3,\n                              0.3,\n                              0.3,\n                              0.3,\n                              0.3,\n                              0.3,\n                              0.3,\n                              0.3,\n                              0.3,\n                              0.3,\n                              0.3,\n                              0.3,\n                              0.3,\n                              0.3,\n                              0.3,\n                              0.3,\n                              0.3,\n                              0.3,\n                              0.3,\n                              0.3,\n                              0.3,\n                              0.3,\n                              0.3,\n                              0.3,\n                              0.3,\n                              0.3,\n                              0.3,\n                              0.3,\n                              0.3,\n                              0.3,\n                              0.3,\n                              0.3,\n                              0.3,\n                              0.3,\n                              0.3,\n                              0.3,\n                              0.3,\n                              0.3,\n                              0.3,\n                              0.3,\n                              0.3,\n                              0.3,\n                              0.3,\n                              0.3,\n                              0.3,\n                              0.3,\n                              0.3,\n                              0.3,\n                              0.3,\n                              0.3,\n                              0.3,\n                              0.3,\n                              0.3,\n                              0.3,\n                              0.3,\n                              0.3,\n                              0.3,\n                              0.3,\n                              0.3,\n                              0.3,\n                              0.3,\n                              0.3,\n                              0.3,\n                              0.3,\n                              0.3,\n                              0.3,\n                              0.3,\n                              0.3,\n                              0.3,\n                              0.3,\n                              0.3,\n                              0.3,\n                              0.3,\n                              0.3,\n                              0.3,\n                              0.3,\n                              0.3,\n                              0.3,\n                              0.3,\n                              0.3,\n                              0.3,\n                              0.3,\n                              0.3,\n                              0.3,\n                              0.3,\n                              0.3,\n                              0.3,\n                              0.3,\n                              0.3,\n                              0.3,\n                              0.3,\n                              0.3,\n                              0.3,\n                              0.3,\n                              0.3,\n                              0.3,\n                              0.3,\n                              0.3,\n                              0.3,\n                              0.3,\n                              0.3,\n                              0.3,\n                              0.3,\n                              0.3,\n                              0.3,\n                              0.3,\n                              0.3,\n                              0.3,\n                              0.3,\n                              0.3,\n                              0.3,\n                              0.3,\n                              0.3,\n                              0.3,\n                              0.3,\n                              0.3,\n                              0.3,\n                              0.3,\n                              0.3,\n                              0.3,\n                              0.3,\n                              0.3,\n                              0.3,\n                              0.3,\n                              0.3,\n                              0.3,\n                              0.3,\n                              0.3,\n                              0.3,\n                              0.3,\n                              0.3,\n                              0.3,\n                              0.3,\n                              0.3,\n                              0.3,\n                              0.3,\n                              0.3,\n                              0.3,\n                              0.3,\n                              0.3,\n                              0.3,\n                              0.3,\n                              0.3,\n                              0.3,\n                              0.3,\n                              0.3,\n                              0.3,\n                              0.3,\n                              0.3,\n                              0.3,\n                              0.3,\n                              0.3,\n                              0.3,\n                              0.3,\n                              0.3,\n                              0.3,\n                              0.3,\n                              0.3,\n                              0.3,\n                              0.3,\n                              0.3,\n                              0.3,\n                              0.3,\n                              0.3,\n                              0.3,\n                              0.3,\n                              0.3,\n                              0.3,\n                              0.3,\n                              0.3,\n                              0.3,\n                              0.3,\n                              0.3,\n                              0.3,\n                              0.3,\n                              0.3,\n                              0.3,\n                              0.3,\n                              0.3,\n                              0.3,\n                              0.3,\n                              0.3,\n                              0.3,\n                              0.3,\n                              0.3,\n                              0.3,\n                              0.3,\n                              0.3,\n                              0.3,\n                              0.3,\n                              0.3,\n                              0.3,\n                              0.3,\n                              0.3,\n                              0.3,\n                              0.3,\n                              0.3,\n                              0.3,\n                              0.3,\n                              0.3,\n                              0.3,\n                              0.3,\n                              0.3,\n                              0.3,\n                              0.3,\n                              0.3,\n                              0.3,\n                              0.3,\n                              0.3,\n                              0.3,\n                              0.3,\n                              0.3,\n                              0.3,\n                              0.3,\n                              0.3,\n                              0.3,\n                              0.3,\n                              0.3,\n                              0.3,\n                              0.3,\n                              0.3,\n                              0.3,\n                              0.3,\n                              0.3,\n                              0.3,\n                              0.3,\n                              0.3,\n                              0.3,\n                              0.3,\n                              0.3,\n                              0.3,\n                              0.3,\n                              0.3,\n                              0.3,\n                              0.3,\n                              0.3,\n                              0.3,\n                              0.3,\n                              0.3,\n                              0.3,\n                              0.3,\n                              0.3,\n                              0.3,\n                              0.3,\n                              0.3,\n                              0.3,\n                              0.3,\n                              0.3,\n                              0.3,\n                              0.3,\n                              0.3,\n                              0.3,\n                              0.3,\n                              0.3,\n                              0.3,\n                              0.3,\n                              0.3,\n                              0.3,\n                              0.3,\n                              0.3,\n                              0.3,\n                              0.3,\n                              0.3,\n                              0.3,\n                              0.3,\n                              0.3,\n                              0.3,\n                              0.3,\n                              0.3,\n                              0.3,\n                              0.3,\n                              0.3,\n                              0.3,\n                              0.3,\n                              0.3,\n                              0.3,\n                              0.3,\n                              0.3,\n                              0.3,\n                              0.3,\n                              0.3,\n                              0.3,\n                              0.3,\n                              0.3,\n                              0.3,\n                              0.3,\n                              0.3,\n                              0.3,\n                              0.3,\n                              0.3,\n                              0.3,\n                              0.3,\n                              0.3,\n                              0.3,\n                              0.3,\n                              0.3,\n                              0.3,\n                              0.3,\n                              0.3,\n                              0.3,\n                              0.3,\n                              0.3,\n                              0.3,\n                              0.3,\n                              0.3,\n                              0.3,\n                              0.3,\n                              0.3,\n                              0.3,\n                              0.3,\n                              0.3,\n                              0.3,\n                              0.3,\n                              0.3,\n                              0.3,\n                              0.3,\n                              0.3,\n                              0.3,\n                              0.3,\n                              0.3,\n                              0.3,\n                              0.3,\n                              0.3,\n                              0.3,\n                              0.3,\n                              0.3,\n                              0.3,\n                              0.3,\n                              0.3,\n                              0.3,\n                              0.3,\n                              0.3,\n                              0.3,\n                              0.3,\n                              0.3,\n                              0.3,\n                              0.3,\n                              0.3,\n                              0.3,\n                              0.3,\n                              0.3,\n                              0.3,\n                              0.3,\n                              0.3,\n                              0.3,\n                              0.3,\n                              0.3,\n                              0.3,\n                              0.3,\n                              0.3,\n                              0.3,\n                              0.3,\n                              0.3,\n                              0.3,\n                              0.3,\n                              0.3,\n                              0.3,\n                              0.3,\n                              0.3,\n                              0.3,\n                              0.3,\n                              0.3,\n                              0.3,\n                              0.3,\n                              0.3,\n                              0.3,\n                              0.3,\n                              0.3,\n                              0.3,\n                              0.3,\n                              0.3,\n                              0.3,\n                              0.3,\n                              0.3,\n                              0.3,\n                              0.3,\n                              0.3,\n                              0.3,\n                              0.3,\n                              0.3,\n                              0.3,\n                              0.3,\n                              0.3,\n                              0.3,\n                              0.3,\n                              0.3,\n                              0.3,\n                              0.3,\n                              0.3,\n                              0.3,\n                              0.3,\n                              0.3,\n                              0.3,\n                              0.3,\n                              0.3,\n                              0.3,\n                              0.3,\n                              0.3,\n                              0.3,\n                              0.3,\n                              0.3,\n                              0.3,\n                              0.3,\n                              0.3,\n                              0.3,\n                              0.3,\n                              0.3,\n                              0.3,\n                              0.3,\n                              0.3,\n                              0.3,\n                              0.3,\n                              0.3,\n                              0.3,\n                              0.3,\n                              0.3,\n                              0.3,\n                              0.3,\n                              0.3,\n                              0.3,\n                              0.3,\n                              0.3,\n                              0.3,\n                              0.3,\n                              0.3,\n                              0.3,\n                              0.3,\n                              0.3,\n                              0.3,\n                              0.3,\n                              0.3,\n                              0.3,\n                              0.3,\n                              0.3,\n                              0.3,\n                              0.3,\n                              0.3,\n                              0.3,\n                              0.3,\n                              0.3,\n                              0.3,\n                              0.3,\n                              0.3,\n                              0.3,\n                              0.3,\n                              0.3,\n                              0.3,\n                              0.3,\n                              0.3,\n                              0.3,\n                              0.3,\n                              0.3,\n                              0.3,\n                              0.3,\n                              0.3,\n                              0.3,\n                              0.3,\n                              0.3,\n                              0.3,\n                              0.3,\n                              0.3,\n                              0.3,\n                              0.3,\n                              0.3,\n                              0.3,\n                              0.3,\n                              0.3,\n                              0.3,\n                              0.3,\n                              0.3,\n                              0.3,\n                              0.3,\n                              0.3,\n                              0.3,\n                              0.3,\n                              0.3,\n                              0.3,\n                              0.3,\n                              0.3,\n                              0.3,\n                              0.3,\n                              0.3,\n                              0.3,\n                              0.3,\n                              0.3,\n                              0.3,\n                              0.3,\n                              0.3,\n                              0.3,\n                              0.3,\n                              0.3,\n                              0.3,\n                              0.3,\n                              0.3,\n                              0.3,\n                              0.3,\n                              0.3,\n                              0.3,\n                              0.3,\n                              0.3,\n                              0.3,\n                              0.3,\n                              0.3,\n                              0.3,\n                              0.3,\n                              0.3,\n                              0.3,\n                              0.3,\n                              0.3,\n                              0.3,\n                              0.3,\n                              0.3,\n                              0.3,\n                              0.3,\n                              0.3,\n                              0.3,\n                              0.3,\n                              0.3,\n                              0.3,\n                              0.3,\n                              0.3,\n                              0.3,\n                              0.3,\n                              0.3,\n                              0.3,\n                              0.3,\n                              0.3,\n                              0.3,\n                              0.3,\n                              0.3,\n                              0.3,\n                              0.3,\n                              0.3,\n                              0.3,\n                              0.3,\n                              0.3,\n                              0.3,\n                              0.3,\n                              0.3,\n                              0.3,\n                              0.3,\n                              0.3,\n                              0.3,\n                              0.3,\n                              0.3,\n                              0.3,\n                              0.3,\n                              0.3,\n                              0.3,\n                              0.3,\n                              0.3,\n                              0.3,\n                              0.3,\n                              0.3,\n                              0.3,\n                              0.3,\n                              0.3,\n                              0.3,\n                              0.3,\n                              0.3,\n                              0.3,\n                              0.3,\n                              0.3,\n                              0.3,\n                              0.3,\n                              0.3,\n                              0.3,\n                              0.3,\n                              0.3,\n                              0.3,\n                              0.3,\n                              0.3,\n                              0.3,\n                              0.3,\n                              0.3,\n                              0.3,\n                              0.3,\n                              0.3,\n                              0.3,\n                              0.3,\n                              0.3,\n                              0.3,\n                              0.3,\n                              0.3,\n                              0.3,\n                              0.3,\n                              0.3,\n                              0.3,\n                              0.3,\n                              0.3,\n                              0.3,\n                              0.3,\n                              0.3,\n                              0.3,\n                              0.3,\n                              0.3,\n                              0.3,\n                              0.3,\n                              0.3,\n                              0.3,\n                              0.3,\n                              0.3,\n                              0.3,\n                              0.3,\n                              0.3,\n                              0.3,\n                              0.3,\n                              0.3,\n                              0.3,\n                              0.3,\n                              0.3,\n                              0.3,\n                              0.3,\n                              0.3,\n                              0.3,\n                              0.3,\n                              0.3,\n                              0.3,\n                              0.3,\n                              0.3,\n                              0.3,\n                              0.3,\n                              0.3,\n                              0.3,\n                              0.3,\n                              0.3,\n                              0.3,\n                              0.3,\n                              0.3,\n                              0.3,\n                              0.3,\n                              0.3,\n                              0.3,\n                              0.3,\n                              0.3,\n                              0.3,\n                              0.3,\n                              0.3,\n                              0.3,\n                              0.3,\n                              0.3,\n                              0.3,\n                              0.3,\n                              0.3,\n                              0.3,\n                              0.3,\n                              0.3,\n                              0.3,\n                              0.3,\n                              0.3,\n                              0.3,\n                              0.3,\n                              0.3,\n                              0.3,\n                              0.3,\n                              0.3,\n                              0.3,\n                              0.3,\n                              0.3,\n                              0.3,\n                              0.3,\n                              0.3,\n                              0.3,\n                              0.3,\n                              0.3,\n                              0.3,\n                              0.3,\n                              0.3,\n                              0.3,\n                              0.3,\n                              0.3,\n                              0.3,\n                              0.3,\n                              0.3,\n                              0.3,\n                              0.3,\n                              0.3,\n                              0.3,\n                              0.3,\n                              0.3,\n                              0.3,\n                              0.3,\n                              0.3,\n                              0.3,\n                              0.3,\n                              0.3,\n                              0.3,\n                              0.3,\n                              0.3,\n                              0.3,\n                              0.3,\n                              0.3,\n                              0.3,\n                              0.3,\n                              0.3,\n                              0.3,\n                              0.3,\n                              0.3,\n                              0.3,\n                              0.3,\n                              0.3,\n                              0.3,\n                              0.3,\n                              0.3,\n                              0.3,\n                              0.3,\n                              0.3,\n                              0.3,\n                              0.3,\n                              0.3,\n                              0.3,\n                              0.3,\n                              0.3,\n                              0.3,\n                              0.3,\n                              0.3,\n                              0.3,\n                              0.3,\n                              0.3,\n                              0.3,\n                              0.3,\n                              0.3,\n                              0.3,\n                              0.3,\n                              0.3,\n                              0.3,\n                              0.3,\n                              0.3,\n                              0.3,\n                              0.3,\n                              0.3,\n                              0.3,\n                              0.3,\n                              0.3,\n                              0.3,\n                              0.3,\n                              0.3,\n                              0.3,\n                              0.3,\n                              0.3,\n                              0.3,\n                              0.3,\n                              0.3,\n                              0.3,\n                              0.3,\n                              0.3,\n                              0.3,\n                              0.3,\n                              0.3,\n                              0.3,\n                              0.3,\n                              0.3,\n                              0.3,\n                              0.3,\n                              0.3,\n                              0.3,\n                              0.3,\n                              0.3,\n                              0.3,\n                              0.3,\n                              0.3,\n                              0.3,\n                              0.3,\n                              0.3,\n                              0.3,\n                              0.3,\n                              0.3,\n                              0.3,\n                              0.3,\n                              0.3,\n                              0.3,\n                              0.3,\n                              0.3,\n                              0.3,\n                              0.3,\n                              0.3,\n                              0.3,\n                              0.3,\n                              0.3,\n                              0.3,\n                              0.3,\n                              0.3,\n                              0.3,\n                              0.3,\n                              0.3,\n                              0.3,\n                              0.3,\n                              0.3,\n                              0.3,\n                              0.3,\n                              0.3,\n                              0.3,\n                              0.3,\n                              0.3,\n                              0.3,\n                              0.3,\n                              0.3,\n                              0.3,\n                              0.3,\n                              0.3,\n                              0.3,\n                              0.3,\n                              0.3,\n                              0.3,\n                              0.3,\n                              0.3,\n                              0.3,\n                              0.3,\n                              0.3,\n                              0.3,\n                              0.3,\n                              0.3,\n                              0.3,\n                              0.3,\n                              0.3,\n                              0.3,\n                              0.3,\n                              0.3,\n                              0.3,\n                              0.3,\n                              0.3,\n                              0.3,\n                              0.3,\n                              0.3,\n                              0.3,\n                              0.3,\n                              0.3,\n                              0.3,\n                              0.3,\n                              0.3,\n                              0.3,\n                              0.3,\n                              0.3,\n                              0.3,\n                              0.3,\n                              0.3,\n                              0.3,\n                              0.3,\n                              0.3,\n                              0.3,\n                              0.3,\n                              0.3,\n                              0.3,\n                              0.3,\n                              0.3,\n                              0.3,\n                              0.3,\n                              0.3,\n                              0.3,\n                              0.3,\n                              0.3,\n                              0.3,\n                              0.3,\n                              0.3,\n                              0.3,\n                              0.3,\n                              0.3,\n                              0.3,\n                              0.3,\n                              0.3,\n                              0.3,\n                              0.3,\n                              0.3,\n                              0.3,\n                              0.3,\n                              0.3,\n                              0.3,\n                              0.3,\n                              0.3,\n                              0.3,\n                              0.3,\n                              0.3,\n                              0.3,\n                              0.3,\n                              0.3,\n                              0.3,\n                              0.3,\n                              0.3,\n                              0.3,\n                              0.3,\n                              0.3,\n                              0.3,\n                              0.3,\n                              0.3,\n                              0.3,\n                              0.3,\n                              0.3,\n                              0.3,\n                              0.3,\n                              0.3,\n                              0.3,\n                              0.3,\n                              0.3,\n                              0.3,\n                              0.3,\n                              0.3,\n                              0.3,\n                              0.3,\n                              0.3,\n                              0.3,\n                              0.3,\n                              0.3,\n                              0.3,\n                              0.3,\n                              0.3,\n                              0.3,\n                              0.3,\n                              0.3,\n                              0.3,\n                              0.3,\n                              0.3,\n                              0.3,\n                              0.3,\n                              0.3,\n                              0.3,\n                              0.3,\n                              0.3,\n                              0.3,\n                              0.3,\n                              0.3,\n                              0.3,\n                              0.3,\n                              0.3,\n                              0.3,\n                              0.3,\n                              0.3,\n                              0.3,\n                              0.3,\n                              0.3,\n                              0.3,\n                              0.3,\n                              0.3,\n                              0.3,\n                              0.3,\n                              0.3,\n                              0.3,\n                              0.3,\n                              0.3,\n                              0.3,\n                              0.3,\n                              0.3,\n                              0.3,\n                              0.3,\n                              0.3,\n                              0.3,\n                              0.3,\n                              0.3,\n                              0.3,\n                              0.3,\n                              0.3,\n                              0.3,\n                              0.3,\n                              0.3,\n                              0.3,\n                              0.3,\n                              0.3,\n                              0.3,\n                              0.3,\n                              0.3,\n                              0.3,\n                              0.3,\n                              0.3,\n                              0.3,\n                              0.3,\n                              0.3,\n                              0.3,\n                              0.3,\n                              0.3,\n                              0.3,\n                              0.3,\n                              0.3,\n                              0.3,\n                              0.3,\n                              0.3,\n                              0.3,\n                              0.3,\n                              0.3,\n                              0.3,\n                              0.3,\n                              0.3,\n                              0.3,\n                              0.3,\n                              0.3,\n                              0.3,\n                              0.3,\n                              0.3,\n                              0.3,\n                              0.3,\n                              0.3,\n                              0.3,\n                              0.3,\n                              0.3,\n                              0.3,\n                              0.3,\n                              0.3,\n                              0.3,\n                              0.3,\n                              0.3,\n                              0.3,\n                              0.3,\n                              0.3,\n                              0.3,\n                              0.3,\n                              0.3,\n                              0.3,\n                              0.3,\n                              0.3,\n                              0.3,\n                              0.3,\n                              0.3,\n                              0.3,\n                              0.3,\n                              0.3,\n                              0.3,\n                              0.3,\n                              0.3,\n                              0.3,\n                              0.3,\n                              0.3,\n                              0.3,\n                              0.3,\n                              0.3,\n                              0.3,\n                              0.3,\n                              0.3,\n                              0.3,\n                              0.3,\n                              0.3,\n                              0.3,\n                              0.3,\n                              0.3,\n                              0.3,\n                              0.3,\n                              0.3,\n                              0.3,\n                              0.3,\n                              0.3,\n                              0.3,\n                              0.3,\n                              0.3,\n                              0.3,\n                              0.3,\n                              0.3,\n                              0.3,\n                              0.3,\n                              0.3,\n                              0.3,\n                              0.3,\n                              0.3,\n                              0.3,\n                              0.3,\n                              0.3,\n                              0.3,\n                              0.3,\n                              0.3,\n                              0.3,\n                              0.3,\n                              0.3,\n                              0.3,\n                              0.3,\n                              0.3,\n                              0.3,\n                              0.3,\n                              0.3,\n                              0.3,\n                              0.3,\n                              0.3,\n                              0.3,\n                              0.3,\n                              0.3,\n                              0.3,\n                              0.3,\n                              0.3,\n                              0.3,\n                              0.3,\n                              0.3,\n                              0.3,\n                              0.3,\n                              0.3,\n                              0.3,\n                              0.3,\n                              0.3,\n                              0.3,\n                              0.3,\n                              0.3,\n                              0.3,\n                              0.3,\n                              0.3,\n                              0.3,\n                              0.3,\n                              0.3,\n                              0.3,\n                              0.3,\n                              0.3,\n                              0.3,\n                              0.3,\n                              0.3,\n                              0.3,\n                              0.3,\n                              0.3,\n                              0.3,\n                              0.3,\n                              0.3,\n                              0.3,\n                              0.3,\n                              0.3,\n                              0.3,\n                              0.3,\n                              0.3,\n                              0.3,\n                              0.3,\n                              0.3,\n                              0.3,\n                              0.3,\n                              0.3,\n                              0.3,\n                              0.3,\n                              0.3,\n                              0.3,\n                              0.3,\n                              0.3,\n                              0.3,\n                              0.3,\n                              0.3,\n                              0.3,\n                              0.3,\n                              0.3,\n                              0.3,\n                              0.3,\n                              0.3,\n                              0.3,\n                              0.3,\n                              0.3,\n                              0.3,\n                              0.3,\n                              0.3,\n                              0.3,\n                              0.3,\n                              0.3,\n                              0.3,\n                              0.3,\n                              0.3,\n                              0.3,\n                              0.3,\n                              0.3,\n                              0.3,\n                              0.3,\n                              0.3,\n                              0.3,\n                              0.3,\n                              0.3,\n                              0.3,\n                              0.3,\n                              0.3,\n                              0.3,\n                              0.3,\n                              0.3,\n                              0.3,\n                              0.3,\n                              0.3,\n                              0.3,\n                              0.3,\n                              0.3,\n                              0.3,\n                              0.3,\n                              0.3,\n                              0.3,\n                              0.3,\n                              0.3,\n                              0.3,\n                              0.3,\n                              0.3,\n                              0.3,\n                              0.3,\n                              0.3,\n                              0.3,\n                              0.3,\n                              0.3,\n                              0.3,\n                              0.3,\n                              0.3,\n                              0.3,\n                              0.3,\n                              0.3,\n                              0.3,\n                              0.3,\n                              0.3,\n                              0.3,\n                              0.3,\n                              0.3,\n                              0.3,\n                              0.3,\n                              0.3,\n                              0.3,\n                              0.3,\n                              0.3,\n                              0.3,\n                              0.3,\n                              0.3,\n                              0.3,\n                              0.3,\n                              0.3,\n                              0.3,\n                              0.3,\n                              0.3,\n                              0.3,\n                              0.3,\n                              0.3,\n                              0.3,\n                              0.3,\n                              0.3,\n                              0.3,\n                              0.3,\n                              0.3,\n                              0.3,\n                              0.3,\n                              0.3,\n                              0.3,\n                              0.3,\n                              0.3,\n                              0.3,\n                              0.3,\n                              0.3,\n                              0.3,\n                              0.3,\n                              0.3,\n                              0.3,\n                              0.3,\n                              0.3,\n                              0.3,\n                              0.3,\n                              0.3,\n                              0.3,\n                              0.3,\n                              0.3,\n                              0.3,\n                              0.3,\n                              0.3,\n                              0.3,\n                              0.3,\n                              0.3,\n                              0.3,\n                              0.3,\n                              0.3,\n                              0.3,\n                              0.3,\n                              0.3,\n                              0.3,\n                              0.3,\n                              0.3,\n                              0.3,\n                              0.3,\n                              0.3,\n                              0.3,\n                              0.3,\n                              0.3,\n                              0.3,\n                              0.3,\n                              0.3,\n                              0.3,\n                              0.3,\n                              0.3,\n                              0.3,\n                              0.3,\n                              0.3,\n                              0.3,\n                              0.3,\n                              0.3,\n                              0.3,\n                              0.3,\n                              0.3,\n                              0.3,\n                              0.3,\n                              0.3,\n                              0.3,\n                              0.3,\n                              0.3,\n                              0.3,\n                              0.3,\n                              0.3,\n                              0.3,\n                              0.3,\n                              0.3,\n                              0.3,\n                              0.3,\n                              0.3,\n                              0.3,\n                              0.3,\n                              0.3,\n                              0.3,\n                              0.3,\n                              0.3,\n                              0.3,\n                              0.3,\n                              0.3,\n                              0.3,\n                              0.3,\n                              0.3,\n                              0.3,\n                              0.3,\n                              0.3,\n                              0.3,\n                              0.3,\n                              0.3,\n                              0.3,\n                              0.3,\n                              0.3,\n                              0.3,\n                              0.3,\n                              0.3,\n                              0.3,\n                              0.3,\n                              0.3,\n                              0.3,\n                              0.3,\n                              0.3,\n                              0.3,\n                              0.3,\n                              0.3,\n                              0.3,\n                              0.3,\n                              0.3,\n                              0.3,\n                              0.3,\n                              0.3,\n                              0.3,\n                              0.3,\n                              0.3,\n                              0.3,\n                              0.3,\n                              0.3,\n                              0.3,\n                              0.3,\n                              0.3,\n                              0.3,\n                              0.3,\n                              0.3,\n                              0.3,\n                              0.3,\n                              0.3,\n                              0.3,\n                              0.3,\n                              0.3,\n                              0.3,\n                              0.3,\n                              0.3,\n                              0.3,\n                              0.3,\n                              0.3,\n                              0.3,\n                              0.3,\n                              0.3,\n                              0.3,\n                              0.3,\n                              0.3,\n                              0.3,\n                              0.3,\n                              0.3,\n                              0.3,\n                              0.3,\n                              0.3,\n                              0.3,\n                              0.3,\n                              0.3,\n                              0.3,\n                              0.3,\n                              0.3,\n                              0.3,\n                              0.3,\n                              0.3,\n                              0.3,\n                              0.3,\n                              0.3,\n                              0.3,\n                              0.3,\n                              0.3,\n                              0.3,\n                              0.3,\n                              0.3,\n                              0.3,\n                              0.3,\n                              0.3,\n                              0.3,\n                              0.3,\n                              0.3,\n                              0.3,\n                              0.3,\n                              0.3,\n                              0.3,\n                              0.3,\n                              0.3,\n                              0.3,\n                              0.3,\n                              0.3,\n                              0.3,\n                              0.3,\n                              0.3,\n                              0.3,\n                              0.3,\n                              0.3,\n                              0.3,\n                              0.3,\n                              0.3,\n                              0.3,\n                              0.3,\n                              0.3,\n                              0.3,\n                              0.3,\n                              0.3,\n                              0.3,\n                              0.3,\n                              0.3,\n                              0.3,\n                              0.3,\n                              0.3,\n                              0.3,\n                              0.3,\n                              0.3,\n                              0.3,\n                              0.3,\n                              0.3,\n                              0.3,\n                              0.3,\n                              0.3,\n                              0.3,\n                              0.3,\n                              0.3,\n                              0.3,\n                              0.3,\n                              0.3,\n                              0.3,\n                              0.3,\n                              0.3,\n                              0.3,\n                              0.3,\n                              0.3,\n                              0.3,\n                              0.3,\n                              0.3,\n                              0.3,\n                              0.3,\n                              0.3,\n                              0.3,\n                              0.3,\n                              0.3,\n                              0.3,\n                              0.3,\n                              0.3,\n                              0.3,\n                              0.3,\n                              0.3,\n                              0.3,\n                              0.3,\n                              0.3,\n                              0.3,\n                              0.3,\n                              0.3,\n                              0.3]},\n             'd': {'id': 'd',\n                   'metadata': {},\n                   'values': [0.66724503,\n                              0.820999205,\n                              0.0971045941,\n                              0.8683604,\n                              0.580093622,\n                              0.994237959,\n                              0.333818614,\n                              0.839053631,\n                              0.52310878,\n                              0.97836113,\n                              0.624644518,\n                              0.479985714,\n                              0.305541784,\n                              0.307580441,\n                              0.516453624,\n                              0.617299855,\n                              0.82118082,\n                              0.512370169,\n                              0.423085123,\n                              0.80918324,\n                              0.592665374,\n                              0.208564445,\n                              0.0563800782,\n                              0.147556618,\n                              0.294508249,\n                              0.650965512,\n                              0.436328828,\n                              0.291583508,\n                              0.276524872,\n                              0.158314779,\n                              0.464038312,\n                              0.494031131,\n                              0.225959763,\n                              0.0101548806,\n                              0.108920269,\n                              0.510974,\n                              0.303043157,\n                              0.476762444,\n                              0.542874873,\n                              0.665016115,\n                              0.268579841,\n                              0.18109028,\n                              0.664428771,\n                              0.468574643,\n                              0.189810544,\n                              0.607115746,\n                              0.70106864,\n                              0.0430637673,\n                              0.926338673,\n                              0.233592197,\n                              0.656506121,\n                              0.58452642,\n                              0.108313076,\n                              0.183081761,\n                              0.0997472182,\n                              0.365159273,\n                              0.246367902,\n                              0.915334165,\n                              0.707250416,\n                              0.532660484,\n                              0.515381575,\n                              0.450762272,\n                              0.993780732,\n                              0.0206105821,\n                              0.365461469,\n                              0.652479708,\n                              0.429472029,\n                              0.181782871,\n                              0.886528969,\n                              0.881738484,\n                              0.41364789,\n                              0.141123682,\n                              0.682759881,\n                              0.62492317,\n                              0.404166937,\n                              0.214766502,\n                              0.178838879,\n                              0.0524681695,\n                              0.0211849734,\n                              0.0089178253,\n                              0.637768626,\n                              0.141977459,\n                              0.302940518,\n                              0.940922558,\n                              0.71911782,\n                              0.502664208,\n                              0.650158584,\n                              0.0939412,\n                              0.733571112,\n                              0.671949148,\n                              0.725350618,\n                              0.561141849,\n                              0.638017356,\n                              0.29559353,\n                              0.257047683,\n                              0.503165841,\n                              0.063563,\n                              0.234156638,\n                              0.699525237,\n                              0.220456645,\n                              0.994148552,\n                              0.525712073,\n                              0.412300795,\n                              0.842442214,\n                              0.81678766,\n                              0.0495615043,\n                              0.121099606,\n                              0.965063214,\n                              0.940808415,\n                              0.0158758052,\n                              0.382343233,\n                              0.90879,\n                              0.837842703,\n                              0.0563135482,\n                              0.303427875,\n                              0.903984606,\n                              0.440163285,\n                              0.412443876,\n                              0.68335706,\n                              0.86977911,\n                              0.0860020518,\n                              0.0846049935,\n                              0.423285812,\n                              0.141274452,\n                              0.534289539,\n                              0.88960743,\n                              0.474991679,\n                              0.131048009,\n                              0.637200594,\n                              0.322987199,\n                              0.751704037,\n                              0.0251637399,\n                              0.177764639,\n                              0.720041037,\n                              0.278660744,\n                              0.929118514,\n                              0.146152914,\n                              0.397573143,\n                              0.792360246,\n                              0.0892794654,\n                              0.681725621,\n                              0.451746941,\n                              0.819166958,\n                              0.46563071,\n                              0.66467905,\n                              0.744190753,\n                              0.556947112,\n                              0.674870312,\n                              0.723805487,\n                              0.745316505,\n                              0.08112932,\n                              0.395152658,\n                              0.442004919,\n                              0.402403265,\n                              0.777857,\n                              0.276401311,\n                              0.610966623,\n                              0.217875645,\n                              0.724678874,\n                              0.798141539,\n                              0.84264791,\n                              0.510377,\n                              0.318283617,\n                              0.0471155234,\n                              0.109764345,\n                              0.265494525,\n                              0.130318761,\n                              0.27249825,\n                              0.0416209362,\n                              0.921081543,\n                              0.86918211,\n                              0.683096588,\n                              0.263099879,\n                              0.101499811,\n                              0.167334929,\n                              0.287186056,\n                              0.228101909,\n                              0.398936629,\n                              0.655008316,\n                              0.119638376,\n                              0.236907363,\n                              0.720791578,\n                              0.26101175,\n                              0.787716568,\n                              0.336286426,\n                              0.0874402076,\n                              0.0475559607,\n                              0.138477728,\n                              0.848272324,\n                              0.7659356,\n                              0.916870475,\n                              0.942876339,\n                              0.825779378,\n                              0.612305164,\n                              0.467081666,\n                              0.176394567,\n                              0.48458451,\n                              0.394826651,\n                              0.745771945,\n                              0.08712475,\n                              0.745691061,\n                              0.992109597,\n                              0.910520852,\n                              0.378049463,\n                              0.442435771,\n                              0.264691561,\n                              0.55497396,\n                              0.351434022,\n                              0.63181448,\n                              0.48510012,\n                              0.00990137178,\n                              0.708453119,\n                              0.499893665,\n                              0.692182541,\n                              0.349716693,\n                              0.444666296,\n                              0.872754872,\n                              0.870536387,\n                              0.184128597,\n                              0.658719838,\n                              0.668798685,\n                              0.741596758,\n                              0.47822842,\n                              0.505365968,\n                              0.352864891,\n                              0.605962515,\n                              0.276961744,\n                              0.793004215,\n                              0.216971248,\n                              0.267674565,\n                              0.0887515172,\n                              0.618786931,\n                              0.769679606,\n                              0.566342533,\n                              0.211328879,\n                              0.31729418,\n                              0.985221565,\n                              0.892600536,\n                              0.917400837,\n                              0.658502042,\n                              0.966092348,\n                              0.657776237,\n                              0.493244231,\n                              0.817472458,\n                              0.399546117,\n                              0.560133874,\n                              0.346304923,\n                              0.232300803,\n                              0.161119059,\n                              0.783506572,\n                              0.311408699,\n                              0.623449504,\n                              0.405920893,\n                              0.390545726,\n                              0.620928705,\n                              0.0678293854,\n                              0.820056,\n                              0.998227715,\n                              0.540255368,\n                              0.0306956396,\n                              0.481479079,\n                              0.975917876,\n                              0.734941721,\n                              0.168636203,\n                              0.267186195,\n                              0.234519988,\n                              0.748538554,\n                              0.811120033,\n                              0.748745799,\n                              0.42941767,\n                              0.281489164,\n                              0.50663048,\n                              0.340069622,\n                              0.960782,\n                              0.241714984,\n                              0.253678203,\n                              0.662911713,\n                              0.132783234,\n                              0.464807063,\n                              0.84341377,\n                              0.466444701,\n                              0.118617497,\n                              0.99409312,\n                              0.555057883,\n                              0.0348833948,\n                              0.793397486,\n                              0.29471615,\n                              0.55213207,\n                              0.680396855,\n                              0.55144614,\n                              0.228915229,\n                              0.776949763,\n                              0.993720829,\n                              0.604633391,\n                              0.823373675,\n                              0.832221,\n                              0.902483702,\n                              0.0885381401,\n                              0.574156821,\n                              0.0313767,\n                              0.551710248,\n                              0.819652498,\n                              0.0643853918,\n                              0.265097052,\n                              0.0140620498,\n                              0.376853049,\n                              0.452575922,\n                              0.0106423656,\n                              0.636440277,\n                              0.752145708,\n                              0.94338268,\n                              0.898667455,\n                              0.768825889,\n                              0.676045954,\n                              0.673994,\n                              0.707835853,\n                              0.528990746,\n                              0.448814243,\n                              0.962995291,\n                              0.399539709,\n                              0.0274958815,\n                              0.485775799,\n                              0.00412963098,\n                              0.675063729,\n                              0.52696991,\n                              0.672034621,\n                              0.347553492,\n                              0.388619035,\n                              0.762008131,\n                              0.990238428,\n                              0.640554488,\n                              0.203618348,\n                              0.950813711,\n                              0.77956754,\n                              0.0660246387,\n                              0.604075313,\n                              0.879277766,\n                              0.420828462,\n                              0.441371322,\n                              0.277564317,\n                              0.682597756,\n                              0.253323793,\n                              0.266546756,\n                              0.965741575,\n                              0.771340132,\n                              0.412336648,\n                              0.843643427,\n                              0.452564,\n                              0.161901265,\n                              0.890329,\n                              0.661439776,\n                              0.167166844,\n                              0.27236712,\n                              0.763842881,\n                              0.662549078,\n                              0.218576774,\n                              0.202007979,\n                              0.374033868,\n                              0.055557128,\n                              0.609483302,\n                              0.944447339,\n                              0.548767745,\n                              0.638511181,\n                              0.361351669,\n                              0.351849556,\n                              0.850353956,\n                              0.812859237,\n                              0.000872560486,\n                              0.0333521888,\n                              0.0924169868,\n                              0.734015226,\n                              0.556647,\n                              0.46412009,\n                              0.842984676,\n                              0.674742,\n                              0.348189354,\n                              0.250697404,\n                              0.44179666,\n                              0.779183865,\n                              0.619566441,\n                              0.799435914,\n                              0.794599295,\n                              0.0981051922,\n                              0.12303061,\n                              0.81792897,\n                              0.686387658,\n                              0.116252124,\n                              0.907621503,\n                              0.494190216,\n                              0.161995679,\n                              0.939574838,\n                              0.899064422,\n                              0.676924825,\n                              0.965773702,\n                              0.552632511,\n                              0.311458439,\n                              0.831141114,\n                              0.510923922,\n                              0.751215458,\n                              0.775609136,\n                              0.341899425,\n                              0.0795639828,\n                              0.507811666,\n                              0.576580524,\n                              0.098611325,\n                              0.212361977,\n                              0.825221121,\n                              0.507999539,\n                              0.557780385,\n                              0.177564144,\n                              0.389914453,\n                              0.909193099,\n                              0.661108,\n                              0.167601064,\n                              0.264317214,\n                              0.323666513,\n                              0.843522072,\n                              0.590839684,\n                              0.642624915,\n                              0.218962342,\n                              0.436457604,\n                              0.0901294798,\n                              0.704949379,\n                              0.350479841,\n                              0.806531549,\n                              0.126666889,\n                              0.171936229,\n                              0.565888762,\n                              0.446739405,\n                              0.178407907,\n                              0.0744252,\n                              0.607046187,\n                              0.861807287,\n                              0.6595065,\n                              0.243117273,\n                              0.110428952,\n                              0.114247046,\n                              0.949572,\n                              0.617380857,\n                              0.369293034,\n                              0.160629734,\n                              0.870149314,\n                              0.0876426101,\n                              0.00663589686,\n                              0.0549859703,\n                              0.534133,\n                              0.169297963,\n                              0.264250815,\n                              0.884595037,\n                              0.645470083,\n                              0.98752439,\n                              0.290846795,\n                              0.438599795,\n                              0.713757515,\n                              0.734890521,\n                              0.156877801,\n                              0.378114432,\n                              0.308514714,\n                              0.333031148,\n                              0.332373351,\n                              0.699936509,\n                              0.500053823,\n                              0.916966796,\n                              0.618804753,\n                              0.204159617,\n                              0.316755682,\n                              0.486881047,\n                              0.176976264,\n                              0.762836277,\n                              0.712216496,\n                              0.35808593,\n                              0.739819288,\n                              0.719988465,\n                              0.778115,\n                              0.688132823,\n                              0.315974325,\n                              0.728137195,\n                              0.0426383242,\n                              0.144300133,\n                              0.504416227,\n                              0.137696221,\n                              0.325205564,\n                              0.290310353,\n                              0.0882993788,\n                              0.422058761,\n                              0.232814863,\n                              0.460588306,\n                              0.461295277,\n                              0.275509834,\n                              0.80618757,\n                              0.443712533,\n                              0.575846493,\n                              0.103944361,\n                              0.595573664,\n                              0.635866821,\n                              0.463713109,\n                              0.154620677,\n                              0.812361181,\n                              0.232966259,\n                              0.950932,\n                              0.96896106,\n                              0.320002437,\n                              0.146966279,\n                              0.0473324731,\n                              0.699665,\n                              0.891824067,\n                              0.91924113,\n                              0.226878539,\n                              0.762503088,\n                              0.855115056,\n                              0.470109761,\n                              0.862234056,\n                              0.719099581,\n                              0.478326052,\n                              0.460712463,\n                              0.607349813,\n                              0.668193042,\n                              0.0819691345,\n                              0.289637804,\n                              0.456513137,\n                              0.769259095,\n                              0.0534895547,\n                              0.0193118621,\n                              0.22071442,\n                              0.536877692,\n                              0.377006799,\n                              0.684282422,\n                              0.229735494,\n                              0.812770963,\n                              0.422198713,\n                              0.138865784,\n                              0.525824368,\n                              0.702878833,\n                              0.214599565,\n                              0.751995325,\n                              0.516383529,\n                              0.291176975,\n                              0.253340214,\n                              0.0198342111,\n                              0.432803214,\n                              0.978751,\n                              0.843747556,\n                              0.869669735,\n                              0.972563505,\n                              0.716658652,\n                              0.716257513,\n                              0.63841486,\n                              0.289274365,\n                              0.774463117,\n                              0.425611794,\n                              0.0311118811,\n                              0.882940769,\n                              0.11008238,\n                              0.470771283,\n                              0.329035103,\n                              0.169528633,\n                              0.653632641,\n                              0.902755618,\n                              0.244794518,\n                              0.69586426,\n                              0.811578929,\n                              0.495908082,\n                              0.156184837,\n                              0.370260149,\n                              0.947544754,\n                              0.459375888,\n                              0.54396987,\n                              0.567945719,\n                              0.495164275,\n                              0.302543044,\n                              0.0177181587,\n                              0.0101106754,\n                              0.00204872526,\n                              0.180342793,\n                              0.350057,\n                              0.756966352,\n                              0.600919962,\n                              0.29734236,\n                              0.610461056,\n                              0.0134790689,\n                              0.0621722639,\n                              0.133929268,\n                              0.956141233,\n                              0.644366145,\n                              0.0101887118,\n                              0.981142163,\n                              0.320136636,\n                              0.889129937,\n                              0.227408826,\n                              0.075250335,\n                              0.0800730065,\n                              0.800305307,\n                              0.500353396,\n                              0.885164,\n                              0.505360067,\n                              0.832244337,\n                              0.906689227,\n                              0.293187976,\n                              0.387266308,\n                              0.747083545,\n                              0.852467179,\n                              0.981819749,\n                              0.943496704,\n                              0.462997943,\n                              0.834129,\n                              0.545968652,\n                              0.800613403,\n                              0.711110115,\n                              0.343796402,\n                              0.688066721,\n                              0.0458988436,\n                              0.655079,\n                              0.56415087,\n                              0.665625155,\n                              0.557777941,\n                              0.404898673,\n                              0.778801739,\n                              0.688725829,\n                              0.219528094,\n                              0.468559921,\n                              0.00077867182,\n                              0.197965443,\n                              0.0829675123,\n                              0.525242269,\n                              0.0330859795,\n                              0.246896774,\n                              0.952810943,\n                              0.583154082,\n                              0.298305571,\n                              0.000935761433,\n                              0.23395431,\n                              0.358331472,\n                              0.480757058,\n                              0.74538964,\n                              0.073493585,\n                              0.608910799,\n                              0.819424748,\n                              0.0347513705,\n                              0.135548562,\n                              0.771232426,\n                              0.981676877,\n                              0.53681469,\n                              0.445772946,\n                              0.517840385,\n                              0.458835125,\n                              0.819917858,\n                              0.575273454,\n                              0.65898329,\n                              0.339589179,\n                              0.191543549,\n                              0.206681296,\n                              0.829122245,\n                              0.437765807,\n                              0.52954,\n                              0.347569346,\n                              0.0158590153,\n                              0.920004725,\n                              0.0329713449,\n                              0.0163734108,\n                              0.0723424554,\n                              0.0175602846,\n                              0.305096447,\n                              0.815920711,\n                              0.541299224,\n                              0.946516,\n                              0.675714493,\n                              0.714358747,\n                              0.371093869,\n                              0.657393157,\n                              0.970311761,\n                              0.957471669,\n                              0.0323736183,\n                              0.0656917468,\n                              0.765600145,\n                              0.541465,\n                              0.260177374,\n                              0.907689273,\n                              0.471249163,\n                              0.645549893,\n                              0.178336784,\n                              0.219564736,\n                              0.562714,\n                              0.00682789646,\n                              0.215936571,\n                              0.447220445,\n                              0.24317652,\n                              0.259224683,\n                              0.577177703,\n                              0.689222336,\n                              0.106629372,\n                              0.565005481,\n                              0.073668696,\n                              0.109657928,\n                              0.447366029,\n                              0.897694707,\n                              0.327046573,\n                              0.45355618,\n                              0.84343636,\n                              0.986662447,\n                              0.147363186,\n                              0.442234457,\n                              0.75707221,\n                              0.458521307,\n                              0.754024625,\n                              0.369894505,\n                              0.312030673,\n                              0.0602001883,\n                              0.879280031,\n                              0.337049,\n                              0.331447273,\n                              0.0306645837,\n                              0.868537486,\n                              0.207426399,\n                              0.367918938,\n                              0.816695511,\n                              0.60612309,\n                              0.730632842,\n                              0.246297821,\n                              0.443413615,\n                              0.600353479,\n                              0.137009397,\n                              0.755321443,\n                              0.662067413,\n                              0.683975,\n                              0.658515215,\n                              0.364681751,\n                              0.872662187,\n                              0.429276228,\n                              0.819359958,\n                              0.506785512,\n                              0.335231453,\n                              0.101911627,\n                              0.689556897,\n                              0.974260569,\n                              0.0668442324,\n                              0.301767677,\n                              0.185093284,\n                              0.902377784,\n                              0.183116958,\n                              0.785702884,\n                              0.131152049,\n                              0.559345067,\n                              0.340828121,\n                              0.97366327,\n                              0.872249246,\n                              0.629410207,\n                              0.975518107,\n                              0.918773592,\n                              0.538171053,\n                              0.415414184,\n                              0.322962195,\n                              0.974673152,\n                              0.213940844,\n                              0.0662598312,\n                              0.45587793,\n                              0.787947953,\n                              0.133556634,\n                              0.833568871,\n                              0.509854138,\n                              0.952488303,\n                              0.364374191,\n                              0.197816923,\n                              0.938854,\n                              0.389888436,\n                              0.32484591,\n                              0.529602826,\n                              0.304635733,\n                              0.623866081,\n                              0.724423349,\n                              0.661829472,\n                              0.460270256,\n                              0.279050767,\n                              0.775436,\n                              0.99938,\n                              0.7057302,\n                              0.72905165,\n                              0.155126363,\n                              0.707862198,\n                              0.71801722,\n                              0.0586741827,\n                              0.537378669,\n                              0.528018653,\n                              0.814279318,\n                              0.536203,\n                              0.0324633457,\n                              0.466556638,\n                              0.50250715,\n                              0.819783449,\n                              0.286054373,\n                              0.795855701,\n                              0.997172713,\n                              0.216096848,\n                              0.34151563,\n                              0.884131134,\n                              0.835447729,\n                              0.867425382,\n                              0.498883516,\n                              0.6103791,\n                              0.147450209,\n                              0.803432763,\n                              0.273568749,\n                              0.432830393,\n                              0.538397372,\n                              0.651143193,\n                              0.237313315,\n                              0.387054384,\n                              0.638077199,\n                              0.0533326156,\n                              0.649071932,\n                              0.891294,\n                              0.487600267,\n                              0.410203964,\n                              0.558123291,\n                              0.4123936,\n                              0.830186725,\n                              0.236788183,\n                              0.37429896,\n                              0.713103592,\n                              0.57824856,\n                              0.0413394943,\n                              0.681633532,\n                              0.579721868,\n                              0.22258608,\n                              0.698538363,\n                              0.256446749,\n                              0.488828599,\n                              0.325341165,\n                              0.415727943,\n                              0.912875414,\n                              0.0230807215,\n                              0.610771596,\n                              0.89048779,\n                              0.33648473,\n                              0.564988196,\n                              0.807767868,\n                              0.491581261,\n                              0.56883347,\n                              0.908363104,\n                              0.455590844,\n                              0.0481740497,\n                              0.178921625,\n                              0.535050035,\n                              0.517870843,\n                              0.892781854,\n                              0.505878508,\n                              0.17353645,\n                              0.434272528,\n                              0.16946511,\n                              0.3439942,\n                              0.521482289,\n                              0.955480218,\n                              0.710281134,\n                              0.281604409,\n                              0.41143927,\n                              0.668428838,\n                              0.94293344,\n                              0.400855035,\n                              0.38694939,\n                              0.238183454,\n                              0.359397024,\n                              0.86344713,\n                              0.315518916,\n                              0.63138783,\n                              0.958846033,\n                              0.701714158,\n                              0.250138938,\n                              0.16688028,\n                              0.102805756,\n                              0.0958316699,\n                              0.349616796,\n                              0.391636848,\n                              0.218268812,\n                              0.814015269,\n                              0.137785658,\n                              0.803023338,\n                              0.109463796,\n                              0.321121693,\n                              0.0974122956,\n                              0.626648188,\n                              0.705560327,\n                              0.731106699,\n                              0.282513142,\n                              0.0234679636,\n                              0.0817758292,\n                              0.792630494,\n                              0.743986249,\n                              0.768445075,\n                              0.504354835,\n                              0.626359403,\n                              0.25383538,\n                              0.472011954,\n                              0.145001158,\n                              0.0347527154,\n                              0.441492677,\n                              0.925896,\n                              0.787702382,\n                              0.08078821,\n                              0.232749343,\n                              0.00525532477,\n                              0.842855752,\n                              0.523979664,\n                              0.197115645,\n                              0.672041357,\n                              0.874609888,\n                              0.908719778,\n                              0.795023143,\n                              0.0647343248,\n                              0.514287353,\n                              0.727009833,\n                              0.912638187,\n                              0.668236911,\n                              0.448922187,\n                              0.463763803,\n                              0.928160191,\n                              0.733840764,\n                              0.426617324,\n                              0.903803229,\n                              0.730919182,\n                              0.398279965,\n                              0.975814283,\n                              0.812261581,\n                              0.693579,\n                              0.841788113,\n                              0.914600611,\n                              0.733751059,\n                              0.773144364,\n                              0.489381671,\n                              0.624206662,\n                              0.651193857,\n                              0.0203581043,\n                              0.567052722,\n                              0.94772923,\n                              0.182816848,\n                              0.245016471,\n                              0.894732952,\n                              0.989075601,\n                              0.132072166,\n                              0.816530824,\n                              0.389631689,\n                              0.796923697,\n                              0.0288273953,\n                              0.19099696,\n                              0.169727683,\n                              0.33836782,\n                              0.517258763,\n                              0.866559267,\n                              0.0518998839,\n                              0.287764132,\n                              0.653898895,\n                              0.143590137,\n                              0.558273435,\n                              0.313174367,\n                              0.506793439,\n                              0.838425636,\n                              0.02246641,\n                              0.462381035,\n                              0.482550949,\n                              0.229721636,\n                              0.710990787,\n                              0.654167771,\n                              0.728786111,\n                              0.596667409,\n                              0.663106799,\n                              0.974098206,\n                              0.272081494,\n                              0.493394732,\n                              0.668417692,\n                              0.726608217,\n                              0.248113766,\n                              0.155311882,\n                              0.57578212,\n                              0.871393919,\n                              0.484582543,\n                              0.00760867121,\n                              0.18086043,\n                              0.210886,\n                              0.460584402,\n                              0.83980751,\n                              0.769718468,\n                              0.726609528,\n                              0.235371888,\n                              0.62879771,\n                              0.56562382,\n                              0.696380377,\n                              0.510281444,\n                              0.0567768067,\n                              0.280754328,\n                              0.786681294,\n                              0.152904525,\n                              0.859067559,\n                              0.578690946,\n                              0.882927656,\n                              0.110879309,\n                              0.958750725,\n                              0.854297638,\n                              0.144475922,\n                              0.0358067527,\n                              0.591816068,\n                              0.773564756,\n                              0.932876706,\n                              0.161190689,\n                              0.763707,\n                              0.632568538,\n                              0.40790835,\n                              0.189249068,\n                              0.17173934,\n                              0.369291961,\n                              0.454647034,\n                              0.623289704,\n                              0.35166654,\n                              0.707660317,\n                              0.609752595,\n                              0.041827932,\n                              0.985362589,\n                              0.843411326,\n                              0.813802719,\n                              0.628391385,\n                              0.809664,\n                              0.706986964,\n                              0.264780611,\n                              0.172865361,\n                              0.874543071,\n                              0.750263572,\n                              0.907082438,\n                              0.366794258,\n                              0.314269394,\n                              0.375482142,\n                              0.513677,\n                              0.153968036,\n                              0.11011453,\n                              0.952508688,\n                              0.706527829,\n                              0.745859504,\n                              0.76390928,\n                              0.963970125,\n                              0.59076494,\n                              0.123257659,\n                              0.229489639,\n                              0.565196931,\n                              0.738940656,\n                              0.164474264,\n                              0.310106277,\n                              0.456838191,\n                              0.0131677762,\n                              0.118475422,\n                              0.313348204,\n                              0.334049135,\n                              0.14507845,\n                              0.450100273,\n                              0.429346412,\n                              0.547602355,\n                              0.0313227549,\n                              0.842292607,\n                              0.0934776738,\n                              0.484392762,\n                              0.701780736,\n                              0.524755478,\n                              0.430352479,\n                              0.0153910341,\n                              0.716334343,\n                              0.0647336915,\n                              0.359943599,\n                              0.154459596,\n                              0.374964505,\n                              0.408700854,\n                              0.0138000501,\n                              0.0522010773,\n                              0.844734728,\n                              0.119904935,\n                              0.625137091,\n                              0.554128706,\n                              0.193288475,\n                              0.592974126,\n                              0.780415118,\n                              0.393317431,\n                              0.953970432,\n                              0.586971283,\n                              0.558391511,\n                              0.1747403,\n                              0.671040952,\n                              0.832546771,\n                              0.32003656,\n                              0.387270749,\n                              0.398115665,\n                              0.498969257,\n                              0.377752,\n                              0.406765282,\n                              0.364567548,\n                              0.772957742,\n                              0.0337996036,\n                              0.959124506,\n                              0.931587577,\n                              0.339613169,\n                              0.613126934,\n                              0.89535743,\n                              0.772653103,\n                              0.822611928,\n                              0.139424935,\n                              0.411584705,\n                              0.196601108,\n                              0.829708338,\n                              0.323522747,\n                              0.52515316,\n                              0.562456429,\n                              0.885900438,\n                              0.850020587,\n                              0.928362489,\n                              0.980313301,\n                              0.363814503,\n                              0.385715306,\n                              0.299378902,\n                              0.143983349,\n                              0.464543879,\n                              0.868619502,\n                              0.220900297,\n                              0.827630639,\n                              0.983624637,\n                              0.421540022,\n                              0.712964177,\n                              0.235233501,\n                              0.247547284,\n                              0.868571877,\n                              0.328825653,\n                              0.570228875,\n                              0.604860783,\n                              0.828257561,\n                              0.0946996436,\n                              0.185591146,\n                              0.290893853,\n                              0.355457366,\n                              0.063522175,\n                              0.388575494,\n                              0.524328172,\n                              0.456648707,\n                              0.00456061773,\n                              0.580931067,\n                              0.514317214,\n                              0.97413367,\n                              0.887217402,\n                              0.947882414,\n                              0.566514373,\n                              0.33805424,\n                              0.668994725,\n                              0.106683627,\n                              0.263351381,\n                              0.0638901293,\n                              0.0831520632,\n                              0.899987,\n                              0.646253467,\n                              0.21969682,\n                              0.372806937,\n                              0.100911193,\n                              0.522808731,\n                              0.947763264,\n                              0.10756667,\n                              0.0850597918,\n                              0.451353,\n                              0.525965691,\n                              0.209872022,\n                              0.650169611,\n                              0.724992871,\n                              0.954110205,\n                              0.674421072,\n                              0.087379083,\n                              0.62512219,\n                              0.255299777,\n                              0.370978594,\n                              0.110878691,\n                              0.952089787,\n                              0.0962032527,\n                              0.67140305,\n                              0.683377564,\n                              0.417511672,\n                              0.196153909,\n                              0.769104421,\n                              0.0370114073,\n                              0.882674575,\n                              0.712325394,\n                              0.503778338,\n                              0.473008215,\n                              0.847807229,\n                              0.590191364,\n                              0.500654817,\n                              0.185280949,\n                              0.239664957,\n                              0.856019914,\n                              0.596692562,\n                              0.214211598,\n                              0.879700541,\n                              0.254648209,\n                              0.894557416,\n                              0.768906891,\n                              0.815379679,\n                              0.767158,\n                              0.277666688,\n                              0.211219043,\n                              0.641404867,\n                              0.709178507,\n                              0.978280067,\n                              0.84027946,\n                              0.118316874,\n                              0.111409418,\n                              0.383783311,\n                              0.658955,\n                              0.628981,\n                              0.10255973,\n                              0.149604559,\n                              0.424911141,\n                              0.067944,\n                              0.758811474,\n                              0.99720329,\n                              0.0392142758,\n                              0.434624761,\n                              0.343249947,\n                              0.0739996,\n                              0.039021574,\n                              0.510869145,\n                              0.300074369,\n                              0.858294368,\n                              0.758019507,\n                              0.799049139,\n                              0.538785636,\n                              0.967949808,\n                              0.282325089,\n                              0.266587734,\n                              0.554897904,\n                              0.517407179,\n                              0.781218767,\n                              0.0976457447,\n                              0.705336869,\n                              0.0040463,\n                              0.487044811,\n                              0.0978436321,\n                              0.855644524,\n                              0.169176742,\n                              0.488815486,\n                              0.279030383,\n                              0.33598572,\n                              0.0386124738,\n                              0.29670465,\n                              0.348443627,\n                              0.569628596,\n                              0.967517138,\n                              0.62133497,\n                              0.998379111,\n                              0.521305919,\n                              0.352355719,\n                              0.840675533,\n                              0.733263373,\n                              0.8709656,\n                              0.645704746,\n                              0.0459564365,\n                              0.89013052,\n                              0.0191390719,\n                              0.753641784,\n                              0.556873083,\n                              0.468139917,\n                              0.474196911,\n                              0.301956505,\n                              0.52599442,\n                              0.550567746,\n                              0.776724815,\n                              0.78281486,\n                              0.468002468,\n                              0.613679707,\n                              0.704680443,\n                              0.866809487,\n                              0.441682816,\n                              0.0327779204,\n                              0.737375557,\n                              0.826692164,\n                              0.516298234,\n                              0.400496632,\n                              0.360426158,\n                              0.379128307,\n                              0.74055022,\n                              0.719356239,\n                              0.848696887,\n                              0.861490667,\n                              0.713263035,\n                              0.767779768,\n                              0.706349373,\n                              0.515831,\n                              0.878754616,\n                              0.903282166,\n                              0.554280937,\n                              0.853807211,\n                              0.31546846,\n                              0.076900363,\n                              0.770370603,\n                              0.564163446,\n                              0.561470747,\n                              0.195693821,\n                              0.866719127,\n                              0.343560725,\n                              0.949809134,\n                              0.838415384,\n                              0.0288177952,\n                              0.450518191,\n                              0.0848857,\n                              0.160226792,\n                              0.100400381,\n                              0.0334985368,\n                              0.792525,\n                              0.0763102919,\n                              0.693060875,\n                              0.0786829144,\n                              0.330011517,\n                              0.452012062,\n                              0.978891492,\n                              0.544249833,\n                              0.908712745,\n                              0.770884037,\n                              0.687755048,\n                              0.0279525537,\n                              0.336011738,\n                              0.808079839,\n                              0.388498217,\n                              0.342818618,\n                              0.761384904,\n                              0.796736896,\n                              0.844105124,\n                              0.648421407,\n                              0.849887729,\n                              0.16706948,\n                              0.306167126,\n                              0.326634258,\n                              0.461931467,\n                              0.651615322,\n                              0.0901765898,\n                              0.99514,\n                              0.532683909,\n                              0.646687031,\n                              0.858612776,\n                              0.705712855,\n                              0.690952301,\n                              0.752214968,\n                              0.365791,\n                              0.0193654392,\n                              0.0708001927,\n                              0.082304433,\n                              0.101952702,\n                              0.412342161,\n                              0.735119,\n                              0.441824466,\n                              0.687222064,\n                              0.269927114,\n                              0.97958982,\n                              0.154856414,\n                              0.109280027,\n                              0.486624628,\n                              0.459697127,\n                              0.945546806,\n                              0.908450902,\n                              0.638174415,\n                              0.413583934,\n                              0.936233342,\n                              0.347603768,\n                              0.145893648,\n                              0.361602396,\n                              0.478103191,\n                              0.82208854,\n                              0.148718476,\n                              0.610586166,\n                              0.456317395,\n                              0.254450649,\n                              0.726109684,\n                              0.353412956,\n                              0.827450395,\n                              0.20188044,\n                              0.565098524,\n                              0.660517693,\n                              0.326698303,\n                              0.825221777,\n                              0.341627836,\n                              0.379018545,\n                              0.119046956,\n                              0.696741939,\n                              0.35679993,\n                              0.71839416,\n                              0.221555501,\n                              0.027822068,\n                              0.997112691,\n                              0.677518725,\n                              0.00954210944,\n                              0.0482986569,\n                              0.618614078,\n                              0.650038421,\n                              0.816545486,\n                              0.193666041,\n                              0.79641217,\n                              0.872568727,\n                              0.44928208,\n                              0.389448225,\n                              0.515057325,\n                              0.0342430957,\n                              0.15049547,\n                              0.689653814,\n                              0.826471269,\n                              0.620097458,\n                              0.221052781,\n                              0.51992,\n                              0.137418136,\n                              0.971199632,\n                              0.228165373,\n                              0.680274785,\n                              0.258055925,\n                              0.810154,\n                              0.355788916,\n                              0.848617315,\n                              0.885199547,\n                              0.255990684,\n                              0.905148149,\n                              0.640372872,\n                              0.68950963,\n                              0.983110785,\n                              0.287552178,\n                              0.868108094,\n                              0.333413392,\n                              0.259794265,\n                              0.577336848,\n                              0.18638885,\n                              0.250881702,\n                              0.728136599,\n                              0.189795747,\n                              0.420194983,\n                              0.937997341,\n                              0.895559,\n                              0.215463787,\n                              0.00149277039,\n                              0.655396,\n                              0.641060531,\n                              0.251691908,\n                              0.503292739,\n                              0.088073,\n                              0.0182770323,\n                              0.0931391,\n                              0.715792954,\n                              0.138835162,\n                              0.448067278,\n                              0.566485524,\n                              0.962792754,\n                              0.842348397,\n                              0.218856931,\n                              0.921743929,\n                              0.345925838,\n                              0.198141679,\n                              0.606130779,\n                              0.510912538,\n                              0.224408627,\n                              0.780883968,\n                              0.943996191,\n                              0.286167622,\n                              0.887942195,\n                              0.546854377,\n                              0.419230789,\n                              0.464668572,\n                              0.766623676,\n                              0.132914454,\n                              0.0867545158,\n                              0.55298996,\n                              0.880000055,\n                              0.377274811,\n                              0.888149679,\n                              0.669842243,\n                              0.513469338,\n                              0.0642746463,\n                              0.222633541,\n                              0.378600836,\n                              0.675009131,\n                              0.387773722,\n                              0.634278178,\n                              0.34672609,\n                              0.772832692,\n                              0.890795,\n                              0.0364083797,\n                              0.160711855,\n                              0.179794744,\n                              0.598422468,\n                              0.0879819244,\n                              0.379811674,\n                              0.374166876,\n                              0.206009448,\n                              0.428367287,\n                              0.814901471,\n                              0.970593572,\n                              0.278705597,\n                              0.789683759,\n                              0.726180851,\n                              0.999366641,\n                              0.326199323,\n                              0.0956640914,\n                              0.522204876,\n                              0.401559025,\n                              0.0581010208,\n                              0.163760632,\n                              0.0960495695,\n                              0.825701416,\n                              0.482354015,\n                              0.224032983,\n                              0.68989706,\n                              0.861384571,\n                              0.862480819,\n                              0.101400681,\n                              0.199587911,\n                              0.875909209,\n                              0.949034035,\n                              0.900112629,\n                              0.151036665,\n                              0.581604779,\n                              0.877377689,\n                              0.54429394,\n                              0.424354434,\n                              0.14966701,\n                              0.350238204,\n                              0.504408,\n                              0.571849227,\n                              0.275354117,\n                              0.556924939,\n                              0.0717476308,\n                              0.938623071,\n                              0.63072437,\n                              0.0783200413,\n                              0.348459482,\n                              0.041191496,\n                              0.817969382,\n                              0.0382780768,\n                              0.808033288,\n                              0.437006861,\n                              0.514198244,\n                              0.0543179624,\n                              0.268506,\n                              0.322111934,\n                              0.837680936,\n                              0.589435339,\n                              0.259838462]}}}"
     },
     "execution_count": 31,
     "metadata": {},
     "output_type": "execute_result"
    }
   ],
   "source": [
    "# fetching\n",
    "index = pinecone.Index('langchain-pinecone')\n",
    "index.fetch(ids=['c', 'd'])"
   ]
  },
  {
   "cell_type": "markdown",
   "id": "9a809374",
   "metadata": {},
   "source": [
    "### Cancellazione vettori"
   ]
  },
  {
   "cell_type": "code",
   "execution_count": 34,
   "id": "3b067c61",
   "metadata": {
    "ExecuteTime": {
     "end_time": "2023-09-18T09:23:49.972149587Z",
     "start_time": "2023-09-18T09:23:49.739473797Z"
    }
   },
   "outputs": [
    {
     "data": {
      "text/plain": "{}"
     },
     "execution_count": 34,
     "metadata": {},
     "output_type": "execute_result"
    }
   ],
   "source": [
    "# Cancellazione vettori\n",
    "index.delete(ids=['b', 'c'])"
   ]
  },
  {
   "cell_type": "code",
   "execution_count": 38,
   "id": "138d278c",
   "metadata": {
    "ExecuteTime": {
     "end_time": "2023-09-18T09:33:23.573879505Z",
     "start_time": "2023-09-18T09:33:23.396963217Z"
    }
   },
   "outputs": [
    {
     "data": {
      "text/plain": "{'dimension': 1536,\n 'index_fullness': 3e-05,\n 'namespaces': {'': {'vector_count': 3}},\n 'total_vector_count': 3}"
     },
     "execution_count": 38,
     "metadata": {},
     "output_type": "execute_result"
    }
   ],
   "source": [
    "# Adesso i vettori sono solo 3\n",
    "index.describe_index_stats()"
   ]
  },
  {
   "cell_type": "code",
   "execution_count": 36,
   "id": "b5d1288f",
   "metadata": {
    "ExecuteTime": {
     "end_time": "2023-09-18T09:24:06.880864489Z",
     "start_time": "2023-09-18T09:24:06.682464639Z"
    }
   },
   "outputs": [
    {
     "data": {
      "text/plain": "{'namespace': '', 'vectors': {}}"
     },
     "execution_count": 36,
     "metadata": {},
     "output_type": "execute_result"
    }
   ],
   "source": [
    "# La ricerca di un vettore che non esiste non produce un errore ma un vettore vuoto {}\n",
    "index.fetch(ids=['b'])"
   ]
  },
  {
   "cell_type": "code",
   "execution_count": 42,
   "id": "d2f99f58",
   "metadata": {
    "ExecuteTime": {
     "end_time": "2023-09-18T09:37:32.038459616Z",
     "start_time": "2023-09-18T09:37:32.016808172Z"
    }
   },
   "outputs": [],
   "source": [
    "# Cancello TUTTI i vettori\n",
    "# index.delete(delete_all=True)"
   ]
  },
  {
   "cell_type": "code",
   "execution_count": 14,
   "outputs": [
    {
     "data": {
      "text/plain": "{}"
     },
     "execution_count": 14,
     "metadata": {},
     "output_type": "execute_result"
    }
   ],
   "source": [
    "index.delete(ids=['a'])"
   ],
   "metadata": {
    "collapsed": false,
    "ExecuteTime": {
     "end_time": "2023-09-18T13:29:47.309163859Z",
     "start_time": "2023-09-18T13:29:47.113478525Z"
    }
   },
   "id": "5d678e21fc3ddc2b"
  },
  {
   "cell_type": "code",
   "execution_count": 15,
   "outputs": [
    {
     "data": {
      "text/plain": "{'dimension': 1536,\n 'index_fullness': 0.0,\n 'namespaces': {},\n 'total_vector_count': 0}"
     },
     "execution_count": 15,
     "metadata": {},
     "output_type": "execute_result"
    }
   ],
   "source": [
    "index.describe_index_stats()"
   ],
   "metadata": {
    "collapsed": false,
    "ExecuteTime": {
     "end_time": "2023-09-18T13:29:48.276027981Z",
     "start_time": "2023-09-18T13:29:48.091355555Z"
    }
   },
   "id": "5b38c7ab3142cf53"
  },
  {
   "cell_type": "markdown",
   "id": "4595be07",
   "metadata": {},
   "source": [
    "### Query"
   ]
  },
  {
   "cell_type": "code",
   "execution_count": 49,
   "id": "cb05fd5d",
   "metadata": {
    "ExecuteTime": {
     "end_time": "2023-09-18T09:38:32.948399411Z",
     "start_time": "2023-09-18T09:38:32.903130457Z"
    }
   },
   "outputs": [],
   "source": [
    "# Creo nuovamente alcuni(5) vettori randomici nel Pinecone Index (perchè li ho cancellati prima)\n",
    "import random\n",
    "vectors = [[random.random() for _ in range(1536)] for v in range(5)]\n",
    "\n",
    "# vectors id\n",
    "ids = list('abcde') #abbiamo 5 vettori e quindi 5 elementi per gli IDs"
   ]
  },
  {
   "cell_type": "code",
   "execution_count": 50,
   "id": "28891aa0",
   "metadata": {
    "ExecuteTime": {
     "end_time": "2023-09-18T09:38:36.759707576Z",
     "start_time": "2023-09-18T09:38:36.194644971Z"
    }
   },
   "outputs": [
    {
     "data": {
      "text/plain": "{'upserted_count': 5}"
     },
     "execution_count": 50,
     "metadata": {},
     "output_type": "execute_result"
    }
   ],
   "source": [
    "# Inserisco i 5 vettori randomici\n",
    "index_name = 'langchain-pinecone'\n",
    "index = pinecone.Index(index_name)\n",
    "index.upsert(vectors=zip(ids, vectors))"
   ]
  },
  {
   "cell_type": "code",
   "execution_count": 70,
   "id": "1c75cb0b",
   "metadata": {
    "ExecuteTime": {
     "end_time": "2023-09-18T09:52:32.007326077Z",
     "start_time": "2023-09-18T09:52:31.903076702Z"
    }
   },
   "outputs": [],
   "source": [
    "# Creo 2 vettori randomici per poi effettuare una query\n",
    "queries = [[random.random() for _ in range(1536)] for v in range(1)]"
   ]
  },
  {
   "cell_type": "code",
   "execution_count": 71,
   "outputs": [
    {
     "data": {
      "text/plain": "1"
     },
     "execution_count": 71,
     "metadata": {},
     "output_type": "execute_result"
    }
   ],
   "source": [
    "len(queries)"
   ],
   "metadata": {
    "collapsed": false,
    "ExecuteTime": {
     "end_time": "2023-09-18T09:52:33.390139580Z",
     "start_time": "2023-09-18T09:52:33.346397504Z"
    }
   },
   "id": "8818e64ce5f4344"
  },
  {
   "cell_type": "code",
   "execution_count": 72,
   "id": "70e2d198",
   "metadata": {
    "ExecuteTime": {
     "end_time": "2023-09-18T09:52:37.263545888Z",
     "start_time": "2023-09-18T09:52:36.930608482Z"
    }
   },
   "outputs": [
    {
     "data": {
      "text/plain": "{'matches': [{'id': 'd', 'score': 0.747123718, 'values': []},\n             {'id': 'e', 'score': 0.744924605, 'values': []},\n             {'id': 'b', 'score': 0.743837237, 'values': []}],\n 'namespace': ''}"
     },
     "execution_count": 72,
     "metadata": {},
     "output_type": "execute_result"
    }
   ],
   "source": [
    "# In questo caso la query restituisce i 3 vettori più simili (top_k=3)\n",
    "# La prima tripletta è costituita dai matches per il primo vettore (queries)\n",
    "# La seconda tripletta è costituita dai matches per il secondo vettore (queries)\n",
    "index.query(\n",
    "    vector=queries,\n",
    "    top_k=3,\n",
    "    include_values=False\n",
    ")"
   ]
  }
 ],
 "metadata": {
  "kernelspec": {
   "display_name": "Python 3 (ipykernel)",
   "language": "python",
   "name": "python3"
  },
  "language_info": {
   "codemirror_mode": {
    "name": "ipython",
    "version": 3
   },
   "file_extension": ".py",
   "mimetype": "text/x-python",
   "name": "python",
   "nbconvert_exporter": "python",
   "pygments_lexer": "ipython3",
   "version": "3.11.4"
  }
 },
 "nbformat": 4,
 "nbformat_minor": 5
}
