{
 "cells": [
  {
   "cell_type": "code",
   "execution_count": 1,
   "id": "initial_id",
   "metadata": {
    "collapsed": true,
    "ExecuteTime": {
     "end_time": "2023-09-20T14:25:43.545298222Z",
     "start_time": "2023-09-20T14:25:43.540361374Z"
    }
   },
   "outputs": [
    {
     "data": {
      "text/plain": "True"
     },
     "execution_count": 1,
     "metadata": {},
     "output_type": "execute_result"
    }
   ],
   "source": [
    "from dotenv import load_dotenv, find_dotenv\n",
    "\n",
    "load_dotenv(find_dotenv(filename=\"pinecone.env\"), override=True)\n",
    "load_dotenv(find_dotenv(filename=\"openai.env\"), override=True)"
   ]
  },
  {
   "cell_type": "code",
   "execution_count": 2,
   "outputs": [
    {
     "name": "stderr",
     "output_type": "stream",
     "text": [
      "/home/alessio/Projects/generals/venv/lib/python3.11/site-packages/pinecone/index.py:4: TqdmExperimentalWarning: Using `tqdm.autonotebook.tqdm` in notebook mode. Use `tqdm.tqdm` instead to force console mode (e.g. in jupyter console)\n",
      "  from tqdm.autonotebook import tqdm\n"
     ]
    }
   ],
   "source": [
    "import os\n",
    "import pinecone\n",
    "\n",
    "# Inizializzazione del Pinecone Client\n",
    "pinecone.init(api_key=os.environ.get('PINECONE_API_KEY'), environment=os.environ.get('PINECONE_ENV'))"
   ],
   "metadata": {
    "collapsed": false,
    "ExecuteTime": {
     "end_time": "2023-09-20T14:26:16.046099545Z",
     "start_time": "2023-09-20T14:26:13.543179254Z"
    }
   },
   "id": "28fed5fdd0f4210b"
  },
  {
   "cell_type": "code",
   "execution_count": 4,
   "outputs": [
    {
     "name": "stdout",
     "output_type": "stream",
     "text": [
      "Deleting all indexes ... Done\n"
     ]
    }
   ],
   "source": [
    "indexes = pinecone.list_indexes()\n",
    "for i in indexes:\n",
    "    print('Deleting all indexes ... ', end='')\n",
    "    pinecone.delete_index(i)\n",
    "    print('Done')"
   ],
   "metadata": {
    "collapsed": false,
    "ExecuteTime": {
     "end_time": "2023-09-20T14:27:15.573467404Z",
     "start_time": "2023-09-20T14:26:59.021901563Z"
    }
   },
   "id": "ea3f14100b1b5311"
  },
  {
   "cell_type": "code",
   "execution_count": 5,
   "outputs": [
    {
     "name": "stdout",
     "output_type": "stream",
     "text": [
      "Creating index test ...\n",
      "Done!\n"
     ]
    }
   ],
   "source": [
    "index_name = 'test'\n",
    "if index_name not in pinecone.list_indexes():\n",
    "    print(f'Creating index {index_name} ...')\n",
    "    pinecone.create_index(index_name, dimension=1536, metric='cosine')\n",
    "    print('Done!')"
   ],
   "metadata": {
    "collapsed": false,
    "ExecuteTime": {
     "end_time": "2023-09-20T14:27:29.781998241Z",
     "start_time": "2023-09-20T14:27:23.010541501Z"
    }
   },
   "id": "ef475f054d49fd2b"
  },
  {
   "cell_type": "code",
   "execution_count": 10,
   "outputs": [],
   "source": [
    "text_to_insert = \"\"\"\n",
    "Tribunale Genova 20111982 insulti licenziamento ingiustificato.docx': 'tribunale di genova 20 novembre 1982 pres basoli est p martinelli soc palmera avv pugliese c castaldini avv cavallari omissis poiché dunque la causa deve essere esaminata nel merito è bene osservare che oggetto della divergenza tra le parti non è se la castaldini abbia o meno commesso un illecito disciplinare infatti la stessa appellata ave va riconosciuto come congrua la sanzione della sospensione per tre giorni misura massima prevista dal contratto collettivo il problema è invece se il licenziamento sia sanzione proporzionale alla mancanza commessa il fatto cosi come è stato contestato è il seguente la castaldini è stata licenziata per aver rivolto per due volte al dirigente sig trogu l espressione signor trogu sa cosa le dico vada a cagare la valutazione di tale fatto deve essere compiuta in conformità alle previsioni contrattuali le quali meritano qualche breve osservazione il licenziamento per cause disciplinari è infatti previsto dal con tratto collettivo per gravi offese verso i compagni di lavoro e per insubordinazione grave verso i superiori sanzioni meno gravi sono previste per chi si presti a diverbio litigioso con o senza vie di fatto sempreché il litigio non assuma carattere di rissa e per chi commetta qualunque atto che porti pregiudizio alla morale omissis alla disciplina sempreché gli atti relativi non debbano essere puniti con punizione più grave in relazione al l entità o alla gravità o alla abituale recidività dell infrazione tralasciando quindi l accenno alla abituale recidività nella specie è del tutto pacifico che la castaldini in vari anni di lavoro non ha mai ricevuto sanzioni disciplinari è facile vedere che nel sistema contrattuale assume un ruolo centrale il concetto di gravità giustifica il licenziamento l ingiuria se essa è grave l insubordinazione se essa è grave il primo probema che si pone è se la gravità debba essere giudicata in relazione alle modalità intrinseche con cui avviene l insubordinazione o in relazione al tipo di ingiuria ovvero se il giudizio di gravità debba comprendere un indagine sui motivi e sulle circostanze anche estrinseche il quesito deve essere affrontato in modo esplicito perché le difese della società appellante sono fortemente fondate sulla constatazione che nella specie l ingiuria è stata rivolta non a un qual siasi compagno di lavoro bensì a un superiore parrebbe cosi che qualsiasi ingiuria rivolta a un superiore sarebbe per ciò stesso grave e che qualunque insubordinazione espressa con ingiuria sarebbe anch essa grave dovendosi ravvisare la gravità della ingiuria nell essere rivolta a un superiore e la gravità della insubordinazione nell essere accompagnata da ingiuria se fosse esatta questa interpretazione della previsione contrattuale l appello della società palmera sarebbe certamente fondato ma il tribunale non ritiene di poter condividere l impostazione infatti il licenziamento in tronco deve pur sempre investire il rapporto di lavoro nella sua interezza se la caratteristica della giusta causa deve essere quella di non consentire la prosecuzione anche provvisoria del rapporto la gravità dell ingiuria la gravità dell insubordinazione devono dunque essere va lutate in relazione alla fiducia del datore di lavoro intendendo per fiducia non un atteggiamento psicologico di simpatia o di confidenza ma una ragionevole previsione di esatto adempimento per il futuro del contratto di lavoro da questo punto di vista uno scontro anche durissimo tra due dipendenti che abbia però carattere prevalentemente personale può essere meno grave di un atteggiamento di radicale e con sapevole contestazione del rapporto di gerarchia con il datore di lavoro infatti il contratto collettivo limita alla sospensione la san zione per diverbi litigiosi che non degenerino in risse pur se intervengono modeste vie di fatto proprio perché tali fatti possono avere in un luogo di lavoro carattere prevalentemente personale assai diverso deve essere il giudizio per comportamenti chiaramente e univocamente riconducibili ad una precisa volontà di rifiutarsi di assoggettarsi a una tale dipendenza come il tribunale ha affermato nella sentenza f i p c giambarresi del 7 luglio 1982 alla quale entrambe le parti hanno fatto riferimento nella discussione pur se la castaldini ha dunque rivolto un espressione indubbiamente volgare e ingiuriosa non giustificata da alcun uso linguistico a persona investita di funzioni gerarchicamente superiori il tribunale ritiene di dover esprimere il giudizio sulla gravità di tale comportamento solo dopo aver esaminato i fatti nella loro interezza e i motivi che hanno indotto la castaldini all infrazione disciplinare ricostruendo dunque tutte le circostanze emerse in causa e facendo riferimento essenzialmente alle dichiarazioni del teste trogu e a quelle che le completano è possibile riferire che a poco dopo le ore 9 del 1 ottobre 1981 il sig trogu entrando nella stanza della propria segretaria de marchi vi ha trovato la de marchi la castaldini e una terza dipendente la de marchi parlava al telefono la castaldini che era andata a prendere una tazza di caffè dal termos che la de marchi teneva in ufficio e la pastacaldi che stava dicendo alla castaldini di ringraziare la de marchi di un libro che la stessa pastacaldi stava restituendo men tre la de marchi telefonava stavano conversando b la castaldini avendo l impressione che il trogu volesse parlare alla de marchi e fosse nervoso disse potremmo prendere un caffè e il trogu che non aveva elementi per sapere da quanto tempo le tre signore erano li rispose senz altro ma mi sembra un po lungo al che la castaldini e la pastacaldi uscirono dalla stanza c in precedenza lo stesso trogu non aveva mai fatto osservazione alcuna al fatto che da lungo tempo la castaldini prendesse il caffè nell ufficio della de marchi d il 1 ottobre 1981 il trogu chiamò dopo l episodio la de marchi e le disse che le colleghe non potevano prendere il caffè nella di lei stanza e poi chiamò il superiore diretto della castaldini perché questa venisse invitata a non far perdere tempo alla de marchi nel suo ufficio e la castaldini prima ricevette a distanza di 15 o 30 minuti dall antefatto una telefonata dalla de marchi preoccupata per l accaduto cui la castaldini rispose che avrebbero rinunciato a prendere il caffè assieme e successivamente incontrò il proprio superiore dott mignatti che parve alla castaldini piuttosto nervoso e che manifestò la volontà di riesaminare i fatti al ritorno dal viaggio che era in procinto di compiere la castaldini cercò il trogu che trovò verso le ore 11 g prima di profferire l ingiuria la castaldini chiese al trogu che non comprese la domanda per la voce alterata della dipendente sig trogu è lei che mi manda a dire che non devo più prendere il caffè la ricostruzione dei fatti consente quattro osservazioni la prima è che l attrito tra la castaldini e il trogu non ri guardava in alcun modo la prestazione lavorativa neppure sotto l aspetto della perdita di tempo poiché il trogu non rilevò alcuna perdita di tempo superiore a quella necessaria per prendere un caffè lo stesso ha riconosciuto di non aver alcun elemento per ritenere che la sosta della castaldini nella stanza della de marchi fosse durata più o meno a lungo l invito a non far perdere tempo non era dunque giustificato dai fatti se non per il breve intervallo necessario al consumo di un caffè né la de marchi né la castaldini si erano segnalate in passato come di pendenti poco solerti nel lavoro la seconda è che l intervento del trogu interrompeva una specifica prassi da tempo tollerata dallo stesso trogu il quale non aveva mai rivolto osservazioni alla castaldini come egli ha riconosciuto quando la stessa si era recata nella stanza della de marchi per prendervi il caffè lo stesso intervento si poneva altresì in contrasto con la prassi tollerata da tutti i dirigenti della palmera sicché esso rappresentava non un atteggiamento aziendale generale ma un atteggiamento personale del solo trogu che riguardava la sola castaldini la terza osservazione è che agli occhi della dipendente il comportamento del trogu appariva privo di qualsiasi giustificazione e frutto piuttosto di un capriccio personale che di esigenze aziendali non si può negare d altra parte che la pretesa del trogu si armonizzava ben poco con il complessivo clima aziendale qua le è emerso dall istruttoria la quarta è che la castaldini aveva manifestato ugualmente la volontà di astenersi per il futuro dal prendere il caffè con la de marchi e non aveva avuto alcuna reazione nei confronti del proprio superiore diretto sig mignatti la questione costituiva dunque un attrito personale tra la castaldini e il trogu e non una contestazione del vincolo di subordinazione tutto ciò non giustifica naturalmente la reazione della castaldini né è questo ciò che si discute in causa essendo del tutto pacifico il diritto della palmera di punire un simile inaccettabile comportamento ma i fatti non consentono in alcun modo ad avviso del tribunale di ritenere che la fiducia della società palmera nell esatto e disciplinato adempimento dei suoi obblighi da parte della castaldini abbia potuto cessare la castaldini non è certo persona incapace di autocontrollo anche se nella circostanza lo ha perduto gli anni precedenti di la voro ne fanno fede le dimensioni della società palmera sono tali d altra parte che la stessa non necessariamente deve prestare la sua attività a contatto con il trogu e l episodio potrebbe ben costituire ragione per un trasferimento della castaldini ad altro ufficio con mansioni equivalenti per esigenze organizzative relative all ordinato svolgimento del lavoro una sanzione disciplinare minore varrebbe comunque a segnare l intollerabilità di simili comportamenti vi sono dunque gli strumenti nell ordina mento per reagire a un singolo episodio senza giungere al licenziamento né pare possibile esprimere un giudizio di gravità nel senso contrattuale prima precisato per una reazione che ha coinvolto non il rapporto lavoratore datore di lavoro ma un rap porto personale tra due dipendenti sia pure di collocazione di versa nella gerarchia professionale del contratto relativo a una vicenda sostanzialmente estranea ai problemi lavorativi d altra parte non sembra corretto attribuire alla castaldini l intento di dimostrare un suo potere aziendale come in primo grado la palmera ha tentato di fare i profili sindacali sono rima sti giustamente estranei alla decisione del pretore e giustamente la società palmera ha replicato ai tentativi difensivi della castaldini di collegare l accaduto alle qualifiche sindacali rivestite dalla stessa eguale considerazione meritano i tentativi di collegare un incidente tutto personale ai problemi delle relazioni industriali interaziendali dal punto di vista dell elemento soggettivo dunque vi sono considerazioni che non giustificano una valutazione di gravità dell ingiuria e dell insubordinazione poiché la castaldini non ha rifiutato obbedienza al discutibile invito rivoltele per iniziativa del trogu di insubordinazione appare anzi problematico par lare certo vi sono altri elementi oggettivi che non alleviano l epi sodio quali il luogo in cui esso è avvenuto e il numero e la qualità delle persone che vi hanno assistito quanto meno acusticamente ma tali elementi che non sarebbe corretto voler minimizzare colorano un episodio già di per sé clamoroso non possono pesare sulla bilancia se ciò che deve essere valutato è la ragionevole previsione che in futuro il rapporto possa proseguire in modo del tutto corretto la valutazione della lavoratrice castaldini non muta se i presenti erano uno o dieci né ciò può trasformare un ingiuria rivolta a un singolo per ragioni personali in una contestazione della gerarchia aziendale certo chi intende il licenziamento come punizione esemplare cui si affida l immagine dell azienda all esterno può non condividere questa visione correttamente contrattuale ma essa è la sola giustificata dall ordinamento positivo un ultima osservazione in causa è emerso anche che la castaldini si era vantata dell accaduto con altra dipendente ma a questa circostanza che meriterebbe attenzione non marginale il tribunale non può estendere il suo esame poiché essa non è stata contestata nella lettera di licenziamento \n",
    "\"\"\""
   ],
   "metadata": {
    "collapsed": false,
    "ExecuteTime": {
     "end_time": "2023-09-20T15:20:19.803038663Z",
     "start_time": "2023-09-20T15:20:19.754985041Z"
    }
   },
   "id": "58b2c76a23eb4898"
  },
  {
   "cell_type": "code",
   "execution_count": 17,
   "outputs": [
    {
     "name": "stderr",
     "output_type": "stream",
     "text": [
      "Token indices sequence length is longer than the specified maximum sequence length for this model (2270 > 512). Running this sequence through the model will result in indexing errors\n"
     ]
    },
    {
     "ename": "RuntimeError",
     "evalue": "The expanded size of the tensor (2270) must match the existing size (512) at non-singleton dimension 1.  Target sizes: [1, 2270].  Tensor sizes: [1, 512]",
     "output_type": "error",
     "traceback": [
      "\u001B[0;31m---------------------------------------------------------------------------\u001B[0m",
      "\u001B[0;31mRuntimeError\u001B[0m                              Traceback (most recent call last)",
      "Cell \u001B[0;32mIn[17], line 13\u001B[0m\n\u001B[1;32m     11\u001B[0m \u001B[38;5;66;03m# Esegue il modello su input_ids e ottiene gli embeddings dell'ultimo strato nascosto\u001B[39;00m\n\u001B[1;32m     12\u001B[0m \u001B[38;5;28;01mwith\u001B[39;00m torch\u001B[38;5;241m.\u001B[39mno_grad():\n\u001B[0;32m---> 13\u001B[0m     embeddings \u001B[38;5;241m=\u001B[39m \u001B[43mmodel\u001B[49m\u001B[43m(\u001B[49m\u001B[43minput_ids\u001B[49m\u001B[43m)\u001B[49m\u001B[38;5;241m.\u001B[39mlast_hidden_state\u001B[38;5;241m.\u001B[39mmean(dim\u001B[38;5;241m=\u001B[39m\u001B[38;5;241m1\u001B[39m)\n\u001B[1;32m     14\u001B[0m     \u001B[38;5;28mprint\u001B[39m(embeddings\u001B[38;5;241m.\u001B[39mshape[\u001B[38;5;241m1\u001B[39m])\n\u001B[1;32m     16\u001B[0m \u001B[38;5;66;03m# Ridimensiona l'embedding ottenuto per farlo corrispondere alle dimensioni richieste da Pinecone\u001B[39;00m\n",
      "File \u001B[0;32m~/Projects/generals/venv/lib/python3.11/site-packages/torch/nn/modules/module.py:1501\u001B[0m, in \u001B[0;36mModule._call_impl\u001B[0;34m(self, *args, **kwargs)\u001B[0m\n\u001B[1;32m   1496\u001B[0m \u001B[38;5;66;03m# If we don't have any hooks, we want to skip the rest of the logic in\u001B[39;00m\n\u001B[1;32m   1497\u001B[0m \u001B[38;5;66;03m# this function, and just call forward.\u001B[39;00m\n\u001B[1;32m   1498\u001B[0m \u001B[38;5;28;01mif\u001B[39;00m \u001B[38;5;129;01mnot\u001B[39;00m (\u001B[38;5;28mself\u001B[39m\u001B[38;5;241m.\u001B[39m_backward_hooks \u001B[38;5;129;01mor\u001B[39;00m \u001B[38;5;28mself\u001B[39m\u001B[38;5;241m.\u001B[39m_backward_pre_hooks \u001B[38;5;129;01mor\u001B[39;00m \u001B[38;5;28mself\u001B[39m\u001B[38;5;241m.\u001B[39m_forward_hooks \u001B[38;5;129;01mor\u001B[39;00m \u001B[38;5;28mself\u001B[39m\u001B[38;5;241m.\u001B[39m_forward_pre_hooks\n\u001B[1;32m   1499\u001B[0m         \u001B[38;5;129;01mor\u001B[39;00m _global_backward_pre_hooks \u001B[38;5;129;01mor\u001B[39;00m _global_backward_hooks\n\u001B[1;32m   1500\u001B[0m         \u001B[38;5;129;01mor\u001B[39;00m _global_forward_hooks \u001B[38;5;129;01mor\u001B[39;00m _global_forward_pre_hooks):\n\u001B[0;32m-> 1501\u001B[0m     \u001B[38;5;28;01mreturn\u001B[39;00m \u001B[43mforward_call\u001B[49m\u001B[43m(\u001B[49m\u001B[38;5;241;43m*\u001B[39;49m\u001B[43margs\u001B[49m\u001B[43m,\u001B[49m\u001B[43m \u001B[49m\u001B[38;5;241;43m*\u001B[39;49m\u001B[38;5;241;43m*\u001B[39;49m\u001B[43mkwargs\u001B[49m\u001B[43m)\u001B[49m\n\u001B[1;32m   1502\u001B[0m \u001B[38;5;66;03m# Do not call functions when jit is used\u001B[39;00m\n\u001B[1;32m   1503\u001B[0m full_backward_hooks, non_full_backward_hooks \u001B[38;5;241m=\u001B[39m [], []\n",
      "File \u001B[0;32m~/Projects/generals/venv/lib/python3.11/site-packages/transformers/models/bert/modeling_bert.py:988\u001B[0m, in \u001B[0;36mBertModel.forward\u001B[0;34m(self, input_ids, attention_mask, token_type_ids, position_ids, head_mask, inputs_embeds, encoder_hidden_states, encoder_attention_mask, past_key_values, use_cache, output_attentions, output_hidden_states, return_dict)\u001B[0m\n\u001B[1;32m    986\u001B[0m \u001B[38;5;28;01mif\u001B[39;00m \u001B[38;5;28mhasattr\u001B[39m(\u001B[38;5;28mself\u001B[39m\u001B[38;5;241m.\u001B[39membeddings, \u001B[38;5;124m\"\u001B[39m\u001B[38;5;124mtoken_type_ids\u001B[39m\u001B[38;5;124m\"\u001B[39m):\n\u001B[1;32m    987\u001B[0m     buffered_token_type_ids \u001B[38;5;241m=\u001B[39m \u001B[38;5;28mself\u001B[39m\u001B[38;5;241m.\u001B[39membeddings\u001B[38;5;241m.\u001B[39mtoken_type_ids[:, :seq_length]\n\u001B[0;32m--> 988\u001B[0m     buffered_token_type_ids_expanded \u001B[38;5;241m=\u001B[39m \u001B[43mbuffered_token_type_ids\u001B[49m\u001B[38;5;241;43m.\u001B[39;49m\u001B[43mexpand\u001B[49m\u001B[43m(\u001B[49m\u001B[43mbatch_size\u001B[49m\u001B[43m,\u001B[49m\u001B[43m \u001B[49m\u001B[43mseq_length\u001B[49m\u001B[43m)\u001B[49m\n\u001B[1;32m    989\u001B[0m     token_type_ids \u001B[38;5;241m=\u001B[39m buffered_token_type_ids_expanded\n\u001B[1;32m    990\u001B[0m \u001B[38;5;28;01melse\u001B[39;00m:\n",
      "\u001B[0;31mRuntimeError\u001B[0m: The expanded size of the tensor (2270) must match the existing size (512) at non-singleton dimension 1.  Target sizes: [1, 2270].  Tensor sizes: [1, 512]"
     ]
    }
   ],
   "source": [
    "from transformers import AutoTokenizer, AutoModel\n",
    "import torch\n",
    "\n",
    "# Carica il tokenizer e il modello BERT pre-addestrato\n",
    "tokenizer = AutoTokenizer.from_pretrained(\"dbmdz/bert-base-italian-uncased\")\n",
    "model = AutoModel.from_pretrained(\"dbmdz/bert-base-italian-uncased\")\n",
    "\n",
    "# Tokenizza il testo e converte i token in tensori\n",
    "input_ids = tokenizer(text_to_insert, return_tensors=\"pt\").input_ids\n",
    "\n",
    "# Esegue il modello su input_ids e ottiene gli embeddings dell'ultimo strato nascosto\n",
    "with torch.no_grad():\n",
    "    embeddings = model(input_ids).last_hidden_state.mean(dim=1)\n",
    "    print(embeddings.shape[1])\n",
    "    \n",
    "# Ridimensiona l'embedding ottenuto per farlo corrispondere alle dimensioni richieste da Pinecone\n",
    "desired_embedding_size = 1536\n",
    "if embeddings.shape[1] != desired_embedding_size:\n",
    "    embeddings = torch.nn.functional.interpolate(embeddings, size=(1, desired_embedding_size), mode=\"linear\")\n",
    "\n",
    "# Ora 'embeddings' contiene il vettore rappresentativo del testo"
   ],
   "metadata": {
    "collapsed": false,
    "ExecuteTime": {
     "end_time": "2023-09-20T15:25:11.887870716Z",
     "start_time": "2023-09-20T15:25:10.075945550Z"
    }
   },
   "id": "f75c87aec415ae4a"
  },
  {
   "cell_type": "code",
   "execution_count": null,
   "outputs": [],
   "source": [
    "import numpy as np\n",
    "\n",
    "# Utilizza il client Pinecone per aggiungere gli embeddings all'indice\n",
    "response = pinecone.Index(index_name).upsert(embeddings=np.array(embeddings))"
   ],
   "metadata": {
    "collapsed": false,
    "ExecuteTime": {
     "start_time": "2023-09-20T15:21:23.249182643Z"
    }
   },
   "id": "3b12ce8fac396300"
  },
  {
   "cell_type": "code",
   "execution_count": null,
   "outputs": [],
   "source": [
    "# Chiudi la connessione al client Pinecone\n",
    "pinecone.deinit()"
   ],
   "metadata": {
    "collapsed": false,
    "ExecuteTime": {
     "start_time": "2023-09-20T15:21:23.249405837Z"
    }
   },
   "id": "18dd14b4ba542431"
  },
  {
   "cell_type": "code",
   "execution_count": null,
   "outputs": [],
   "source": [],
   "metadata": {
    "collapsed": false
   },
   "id": "3e88dd312472f284"
  }
 ],
 "metadata": {
  "kernelspec": {
   "display_name": "Python 3",
   "language": "python",
   "name": "python3"
  },
  "language_info": {
   "codemirror_mode": {
    "name": "ipython",
    "version": 2
   },
   "file_extension": ".py",
   "mimetype": "text/x-python",
   "name": "python",
   "nbconvert_exporter": "python",
   "pygments_lexer": "ipython2",
   "version": "2.7.6"
  }
 },
 "nbformat": 4,
 "nbformat_minor": 5
}
