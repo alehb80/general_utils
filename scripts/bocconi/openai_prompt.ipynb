{
 "cells": [
  {
   "cell_type": "code",
   "execution_count": 1,
   "id": "initial_id",
   "metadata": {
    "collapsed": true,
    "ExecuteTime": {
     "end_time": "2023-11-22T08:43:23.851232073Z",
     "start_time": "2023-11-22T08:43:19.679437472Z"
    }
   },
   "outputs": [
    {
     "name": "stdout",
     "output_type": "stream",
     "text": [
      "/home/alessio/Projects/generals/venv/lib/python3.11/site-packages/pip/_internal/metadata/importlib/_envs.py:111: DeprecationWarning: pkg_resources is deprecated as an API. See https://setuptools.pypa.io/en/latest/pkg_resources.html\r\n",
      "  from pip._vendor.pkg_resources import find_distributions\r\n",
      "Name: langchain\r\n",
      "Version: 0.0.308\r\n",
      "Summary: Building applications with LLMs through composability\r\n",
      "Home-page: https://github.com/langchain-ai/langchain\r\n",
      "Author: \r\n",
      "Author-email: \r\n",
      "License: MIT\r\n",
      "Location: /home/alessio/Projects/generals/venv/lib/python3.11/site-packages\r\n",
      "Requires: aiohttp, anyio, dataclasses-json, jsonpatch, langsmith, numpy, pydantic, PyYAML, requests, SQLAlchemy, tenacity\r\n",
      "Required-by: \r\n"
     ]
    }
   ],
   "source": [
    "!pip show langchain"
   ]
  },
  {
   "cell_type": "code",
   "execution_count": 3,
   "outputs": [
    {
     "data": {
      "text/plain": "True"
     },
     "execution_count": 3,
     "metadata": {},
     "output_type": "execute_result"
    }
   ],
   "source": [
    "from dotenv import load_dotenv, find_dotenv\n",
    "\n",
    "load_dotenv(find_dotenv(filename=\"openai.env\"), override=True)"
   ],
   "metadata": {
    "collapsed": false,
    "ExecuteTime": {
     "end_time": "2023-11-22T08:43:23.892786072Z",
     "start_time": "2023-11-22T08:43:23.858611012Z"
    }
   },
   "id": "2f7492a9e3111182"
  },
  {
   "cell_type": "markdown",
   "source": [
    "# Prompt Templates"
   ],
   "metadata": {
    "collapsed": false,
    "ExecuteTime": {
     "end_time": "2023-10-09T14:18:56.201415858Z",
     "start_time": "2023-10-09T14:18:56.199856361Z"
    }
   },
   "id": "efca9259e5da37f1"
  },
  {
   "cell_type": "code",
   "execution_count": 4,
   "outputs": [],
   "source": [
    "# from langchain import PromptTemplate\n",
    "# \n",
    "# template = '''Ho questo metodo per analizzare un'immagine attraverso le API di OpenAI {method}. Scrivi una funzione in {language} che utilizzi il metodo passato e utilizzando le API di OpenAI con il modello {model} permetta di creare una conversazione mantenendo la storia dei messaggi e il relativo contesto. Il primo messaggio di input è costituito da un testo e da un'immagine che dovrà essere analizzata. Successivamente dovrà essere possibile interrogare le API continuando la conversazione mantenendo la storia della conversazione precedente con tutte le interazioni precedenti. Le successive interazioni avverranno tramite prompt frontend. L'ultima domanda sarà sempre il riassunto di tutta la conversazione avvenuta.\n",
    "# \n",
    "# Ho provato e mi da questo errore: openai.error.InvalidRequestError: This is a chat model and not supported in the v1/completions endpoint. Did you mean to use v1/chat/completions?'''\n",
    "# \n",
    "# prompt = PromptTemplate(\n",
    "#     input_variables=['method', 'language', 'model'],\n",
    "#     template=template\n",
    "# )\n",
    "# print(prompt)"
   ],
   "metadata": {
    "collapsed": false,
    "ExecuteTime": {
     "end_time": "2023-11-22T08:43:23.934913319Z",
     "start_time": "2023-11-22T08:43:23.891595475Z"
    }
   },
   "id": "e63f2f7587f14373"
  },
  {
   "cell_type": "code",
   "execution_count": 5,
   "outputs": [
    {
     "name": "stdout",
     "output_type": "stream",
     "text": [
      "input_variables=['language', 'model'] template=\"Scrivi una funzione in {language} che utilizzando le API di OpenAI con il modello {model} permetta di fare upscaling di un'immagine passata come input.\"\n"
     ]
    }
   ],
   "source": [
    "from langchain import PromptTemplate\n",
    "\n",
    "template = '''Scrivi una funzione in {language} che utilizzando le API di OpenAI con il modello {model} permetta di fare upscaling di un'immagine passata come input.'''\n",
    "\n",
    "prompt = PromptTemplate(\n",
    "    input_variables=['language', 'model'],\n",
    "    template=template\n",
    ")\n",
    "print(prompt)"
   ],
   "metadata": {
    "collapsed": false,
    "ExecuteTime": {
     "end_time": "2023-11-22T08:43:24.532404795Z",
     "start_time": "2023-11-22T08:43:23.934776535Z"
    }
   },
   "id": "b887a80302654a12"
  },
  {
   "cell_type": "code",
   "execution_count": 6,
   "outputs": [
    {
     "name": "stderr",
     "output_type": "stream",
     "text": [
      "/home/alessio/Projects/generals/venv/lib/python3.11/site-packages/langchain/llms/openai.py:202: UserWarning: You are trying to use a chat model. This way of initializing it is no longer supported. Instead, please use: `from langchain.chat_models import ChatOpenAI`\n",
      "  warnings.warn(\n",
      "/home/alessio/Projects/generals/venv/lib/python3.11/site-packages/langchain/llms/openai.py:790: UserWarning: You are trying to use a chat model. This way of initializing it is no longer supported. Instead, please use: `from langchain.chat_models import ChatOpenAI`\n",
      "  warnings.warn(\n"
     ]
    },
    {
     "name": "stdout",
     "output_type": "stream",
     "text": [
      "Al momento del mio ultimo aggiornamento (marzo 2023), OpenAI non fornisce API pubbliche per l'upscaling di immagini utilizzando il modello GPT-4 o qualsiasi altra versione di GPT. GPT-3 e i suoi predecessori sono modelli di linguaggio e non sono progettati per il processing di immagini.\n",
      "\n",
      "Tuttavia, ci sono altri modelli e servizi che sono specificatamente progettati per l'upscaling delle immagini, come ESRGAN (Enhanced Super-Resolution Generative Adversarial Networks) e altri modelli basati su reti neurali.\n",
      "\n",
      "Se desideri implementare una funzione di upscaling delle immagini in Python, puoi usare librerie come OpenCV o PIL (Python Imaging Library) per metodi più semplici o utilizzare modelli pre-addestrati di deep learning per risultati più avanzati.\n",
      "\n",
      "Ecco un esempio semplice di come potresti aumentare la risoluzione di un'immagine usando OpenCV:\n",
      "\n",
      "```python\n",
      "import cv2\n",
      "\n",
      "def upscale_image(input_image_path, output_image_path, scale_factor):\n",
      "    # Carica l'immagine originale\n",
      "    image = cv2.imread(input_image_path)\n",
      "\n",
      "    # Calcola le nuove dimensioni\n",
      "    width = int(image.shape[1] * scale_factor)\n",
      "    height = int(image.shape[0] * scale_factor)\n",
      "    dim = (width, height)\n",
      "\n",
      "    # Esegui l'upscaling\n",
      "    upscaled_image = cv2.resize(image, dim, interpolation=cv2.INTER_CUBIC)\n",
      "\n",
      "    # Salva l'immagine upscalata\n",
      "    cv2.imwrite(output_image_path, upscaled_image)\n",
      "\n",
      "# Utilizzo della funzione\n",
      "input_path = 'path/to/your/image.jpg'\n",
      "output_path = 'path/to/save/upscaled_image.jpg'\n",
      "scale = 2  # 2x upscaling\n",
      "upscale_image(input_path, output_path, scale)\n",
      "```\n",
      "\n",
      "Se sei interessato a utilizzare modelli avanzati di deep learning per l'upscaling delle immagini (come ESRGAN), dovrai cercare risorse specifiche per quei modelli, che in genere includono istruzioni su come utilizzare i loro pesi pre-addestrati per migliorare la qualità delle immagini.\n",
      "\n",
      "Per utilizzare un servizio di upscaling basato su un modello di intelligenza artificiale, potresti dover trovare un'API dedicata o eseguire il modello su un server o una macchina locale che abbia le capacità hardware necessarie.\n"
     ]
    }
   ],
   "source": [
    "from langchain.llms import OpenAI\n",
    "\n",
    "llm = OpenAI(model_name='gpt-4-1106-preview', temperature=0.7)\n",
    "output = llm(prompt.format(language='Python', model='gpt-4-1106-preview'))\n",
    "print(output)"
   ],
   "metadata": {
    "collapsed": false,
    "ExecuteTime": {
     "end_time": "2023-11-22T08:43:57.944010325Z",
     "start_time": "2023-11-22T08:43:24.534556557Z"
    }
   },
   "id": "b23c90ad9708742e"
  }
 ],
 "metadata": {
  "kernelspec": {
   "display_name": "Python 3",
   "language": "python",
   "name": "python3"
  },
  "language_info": {
   "codemirror_mode": {
    "name": "ipython",
    "version": 2
   },
   "file_extension": ".py",
   "mimetype": "text/x-python",
   "name": "python",
   "nbconvert_exporter": "python",
   "pygments_lexer": "ipython2",
   "version": "2.7.6"
  }
 },
 "nbformat": 4,
 "nbformat_minor": 5
}
